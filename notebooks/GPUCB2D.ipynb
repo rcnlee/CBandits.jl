{
 "cells": [
  {
   "cell_type": "code",
   "execution_count": 1,
   "metadata": {},
   "outputs": [
    {
     "data": {
      "text/plain": [
       "4-element Array{Int64,1}:\n",
       " 2\n",
       " 3\n",
       " 4\n",
       " 5"
      ]
     },
     "execution_count": 1,
     "metadata": {},
     "output_type": "execute_result"
    }
   ],
   "source": [
    "addprocs(4)"
   ]
  },
  {
   "cell_type": "code",
   "execution_count": 2,
   "metadata": {},
   "outputs": [
    {
     "data": {
      "text/plain": [
       "Plots.GRBackend()"
      ]
     },
     "execution_count": 2,
     "metadata": {},
     "output_type": "execute_result"
    }
   ],
   "source": [
    "using CBandits\n",
    "using POMDPs\n",
    "using DataFrames\n",
    "using Plots; gr()"
   ]
  },
  {
   "cell_type": "raw",
   "metadata": {},
   "source": [
    "A = UniformActions2D()"
   ]
  },
  {
   "cell_type": "raw",
   "metadata": {},
   "source": [
    "plot(A)"
   ]
  },
  {
   "cell_type": "raw",
   "metadata": {},
   "source": [
    "A = GaussianActions2D()"
   ]
  },
  {
   "cell_type": "raw",
   "metadata": {},
   "source": [
    "plot(A)"
   ]
  },
  {
   "cell_type": "raw",
   "metadata": {},
   "source": [
    "G = NarrowBump2D()"
   ]
  },
  {
   "cell_type": "raw",
   "metadata": {},
   "source": [
    "plot(G)"
   ]
  },
  {
   "cell_type": "raw",
   "metadata": {},
   "source": [
    "plot(G, Base.GLOBAL_RNG)"
   ]
  },
  {
   "cell_type": "raw",
   "metadata": {},
   "source": [
    "G = WideBump2D()"
   ]
  },
  {
   "cell_type": "raw",
   "metadata": {},
   "source": [
    "plot(G)"
   ]
  },
  {
   "cell_type": "raw",
   "metadata": {},
   "source": [
    "plot(G, Base.GLOBAL_RNG)"
   ]
  },
  {
   "cell_type": "raw",
   "metadata": {
    "scrolled": true
   },
   "source": [
    "G = Rosenbrock()"
   ]
  },
  {
   "cell_type": "raw",
   "metadata": {},
   "source": [
    "plot(G)"
   ]
  },
  {
   "cell_type": "raw",
   "metadata": {},
   "source": [
    "plot(G, Base.GLOBAL_RNG)"
   ]
  },
  {
   "cell_type": "code",
   "execution_count": 3,
   "metadata": {},
   "outputs": [
    {
     "data": {
      "text/plain": [
       "CBandits.DistributionFunc2D(\"WideBump2D\", DiagNormal(\n",
       "dim: 2\n",
       "μ: [0.25, 0.25]\n",
       "Σ: [0.04 0.0; 0.0 0.49]\n",
       ")\n",
       ", 0.5, (-2.0, 2.0), (-2.0, 2.0), 1.1368200595184386, 2.1355457897855272e-30, [0.25025, 0.25025])"
      ]
     },
     "execution_count": 3,
     "metadata": {},
     "output_type": "execute_result"
    }
   ],
   "source": [
    "G = WideBump2D()"
   ]
  },
  {
   "cell_type": "code",
   "execution_count": 4,
   "metadata": {},
   "outputs": [
    {
     "data": {
      "text/plain": [
       "CBandits.UniformActions2D((-2.0, 2.0), (-2.0, 2.0), Distributions.Uniform{Float64}[Distributions.Uniform{Float64}(a=-2.0, b=2.0), Distributions.Uniform{Float64}(a=-2.0, b=2.0)])"
      ]
     },
     "execution_count": 4,
     "metadata": {},
     "output_type": "execute_result"
    }
   ],
   "source": [
    "A = UniformActions2D()"
   ]
  },
  {
   "cell_type": "raw",
   "metadata": {},
   "source": [
    "b = RandomBandit(; actiondistr=A, outs=Set([:plot]))\n",
    "rd_result = POMDPs.solve(b, G)"
   ]
  },
  {
   "cell_type": "raw",
   "metadata": {},
   "source": [
    "animate(rd_result, \"./uniform_random.gif\")"
   ]
  },
  {
   "cell_type": "raw",
   "metadata": {},
   "source": [
    "b = PWUCB(; actiondistr=A, outs=Set([:plot]))\n",
    "pw_result = POMDPs.solve(b, G)"
   ]
  },
  {
   "cell_type": "raw",
   "metadata": {},
   "source": [
    "animate(pw_result, \"./uniform_pw.gif\")"
   ]
  },
  {
   "cell_type": "raw",
   "metadata": {},
   "source": [
    "b = SBUCB(; actiondistr=A, outs=Set([:plot]))\n",
    "sb_result = POMDPs.solve(b, G)"
   ]
  },
  {
   "cell_type": "raw",
   "metadata": {},
   "source": [
    "animate(sb_result, \"./uniform_sb.gif\")"
   ]
  },
  {
   "cell_type": "raw",
   "metadata": {},
   "source": [
    "b = GPUCBGrid(; actiondistr=UniformActions2D(), grid=GridActions2D(), n_iters=200, log_length_scale=-0.5, outs=Set([:plot]))\n",
    "gd_result = POMDPs.solve(b, WideBump2D())"
   ]
  },
  {
   "cell_type": "raw",
   "metadata": {},
   "source": [
    "animate(gd_result, \"./uniform_gd_widebump2d.gif\")"
   ]
  },
  {
   "cell_type": "raw",
   "metadata": {},
   "source": [
    "b = GPUCBGrid(; actiondistr=UniformActions2D(), grid=GridActions2D(), n_iters=200, log_length_scale=-0.5, outs=Set([:plot]))\n",
    "gd_result = POMDPs.solve(b, NarrowBump2D())"
   ]
  },
  {
   "cell_type": "raw",
   "metadata": {},
   "source": [
    "animate(gd_result, \"./uniform_gd_narrowbump2d.gif\")"
   ]
  },
  {
   "cell_type": "raw",
   "metadata": {},
   "source": [
    "b = GPUCB(; actiondistr=UniformActions2D(), grid=GridActions2D(), n_iters=200, log_length_scale=-0.5, outs=Set([:plot]))\n",
    "gp_result = POMDPs.solve(b, WideBump2D())"
   ]
  },
  {
   "cell_type": "raw",
   "metadata": {},
   "source": [
    "gp_result=gd_result"
   ]
  },
  {
   "cell_type": "raw",
   "metadata": {},
   "source": [
    "animate(gp_result, \"./uniform_gp_widebump2d.gif\")"
   ]
  },
  {
   "cell_type": "code",
   "execution_count": 5,
   "metadata": {},
   "outputs": [
    {
     "data": {
      "text/plain": [
       "CBandits.MetricStudy2D\n",
       "  actiondistr: CBandits.UniformActions2D\n",
       "  G: CBandits.DistributionFunc2D\n",
       "  n_seeds: Int64 10\n",
       "  n_iters: Int64 100\n"
      ]
     },
     "execution_count": 5,
     "metadata": {},
     "output_type": "execute_result"
    }
   ],
   "source": [
    "study = MetricStudy2D(; n_seeds=10, n_iters=100)"
   ]
  },
  {
   "cell_type": "code",
   "execution_count": 6,
   "metadata": {},
   "outputs": [
    {
     "data": {
      "text/plain": [
       "CBandits.MetricStudy2DResult(Any[\"Random\"=>[0.77604; 1.89635; … ; 106.315; 107.522], \"PW\"=>[0.77604; 1.88651; … ; 84.4075; 85.3843], \"SB\"=>[0.77604; 1.89635; … ; 104.786; 105.992], \"GPUCB-Grid\"=>[0.77604; 1.83085; … ; 71.7844; 71.9102], \"GPUCB\"=>[0.77604; 1.83085; … ; 71.7844; 71.9102]], Any[\"Random\"=>[1.08845; 1.08892; … ; 0.768955; 0.768955], \"PW\"=>[1.08845; 1.08845; … ; 0.400375; 0.398338], \"SB\"=>[1.08845; 1.08892; … ; 0.568072; 0.568072], \"GPUCB-Grid\"=>[1.08845; 1.08613; … ; 0.129176; 0.148831], \"GPUCB\"=>[1.08845; 1.08613; … ; 0.129176; 0.148831]])"
      ]
     },
     "execution_count": 6,
     "metadata": {},
     "output_type": "execute_result"
    }
   ],
   "source": [
    "result = run_study(study)"
   ]
  },
  {
   "cell_type": "code",
   "execution_count": 7,
   "metadata": {},
   "outputs": [
    {
     "data": {
      "image/svg+xml": [
       "<?xml version=\"1.0\" encoding=\"utf-8\"?>\n",
       "<svg xmlns=\"http://www.w3.org/2000/svg\" xmlns:xlink=\"http://www.w3.org/1999/xlink\" width=\"600\" height=\"400\" viewBox=\"0 0 600 400\">\n",
       "<defs>\n",
       "  <clipPath id=\"clip0000\">\n",
       "    <rect x=\"0\" y=\"0\" width=\"600\" height=\"400\"/>\n",
       "  </clipPath>\n",
       "</defs>\n",
       "<polygon clip-path=\"url(#clip0000)\" points=\"\n",
       "0,400 600,400 600,0 0,0 \n",
       "  \" fill=\"#ffffff\" fill-opacity=\"1\"/>\n",
       "<defs>\n",
       "  <clipPath id=\"clip0001\">\n",
       "    <rect x=\"120\" y=\"0\" width=\"421\" height=\"400\"/>\n",
       "  </clipPath>\n",
       "</defs>\n",
       "<polygon clip-path=\"url(#clip0000)\" points=\"\n",
       "59.4418,360.121 580.315,360.121 580.315,11.811 59.4418,11.811 \n",
       "  \" fill=\"#ffffff\" fill-opacity=\"1\"/>\n",
       "<defs>\n",
       "  <clipPath id=\"clip0002\">\n",
       "    <rect x=\"59\" y=\"11\" width=\"522\" height=\"349\"/>\n",
       "  </clipPath>\n",
       "</defs>\n",
       "<polyline clip-path=\"url(#clip0002)\" style=\"stroke:#000000; stroke-width:0.5; stroke-opacity:0.1; fill:none\" points=\"\n",
       "  69.22,360.121 69.22,11.811 \n",
       "  \"/>\n",
       "<polyline clip-path=\"url(#clip0002)\" style=\"stroke:#000000; stroke-width:0.5; stroke-opacity:0.1; fill:none\" points=\"\n",
       "  193.308,360.121 193.308,11.811 \n",
       "  \"/>\n",
       "<polyline clip-path=\"url(#clip0002)\" style=\"stroke:#000000; stroke-width:0.5; stroke-opacity:0.1; fill:none\" points=\"\n",
       "  317.397,360.121 317.397,11.811 \n",
       "  \"/>\n",
       "<polyline clip-path=\"url(#clip0002)\" style=\"stroke:#000000; stroke-width:0.5; stroke-opacity:0.1; fill:none\" points=\"\n",
       "  441.485,360.121 441.485,11.811 \n",
       "  \"/>\n",
       "<polyline clip-path=\"url(#clip0002)\" style=\"stroke:#000000; stroke-width:0.5; stroke-opacity:0.1; fill:none\" points=\"\n",
       "  565.573,360.121 565.573,11.811 \n",
       "  \"/>\n",
       "<polyline clip-path=\"url(#clip0002)\" style=\"stroke:#000000; stroke-width:0.5; stroke-opacity:0.1; fill:none\" points=\"\n",
       "  59.4418,352.652 580.315,352.652 \n",
       "  \"/>\n",
       "<polyline clip-path=\"url(#clip0002)\" style=\"stroke:#000000; stroke-width:0.5; stroke-opacity:0.1; fill:none\" points=\"\n",
       "  59.4418,275.695 580.315,275.695 \n",
       "  \"/>\n",
       "<polyline clip-path=\"url(#clip0002)\" style=\"stroke:#000000; stroke-width:0.5; stroke-opacity:0.1; fill:none\" points=\"\n",
       "  59.4418,198.737 580.315,198.737 \n",
       "  \"/>\n",
       "<polyline clip-path=\"url(#clip0002)\" style=\"stroke:#000000; stroke-width:0.5; stroke-opacity:0.1; fill:none\" points=\"\n",
       "  59.4418,121.78 580.315,121.78 \n",
       "  \"/>\n",
       "<polyline clip-path=\"url(#clip0002)\" style=\"stroke:#000000; stroke-width:0.5; stroke-opacity:0.1; fill:none\" points=\"\n",
       "  59.4418,44.8231 580.315,44.8231 \n",
       "  \"/>\n",
       "<polyline clip-path=\"url(#clip0000)\" style=\"stroke:#000000; stroke-width:1; stroke-opacity:1; fill:none\" points=\"\n",
       "  59.4418,360.121 580.315,360.121 \n",
       "  \"/>\n",
       "<polyline clip-path=\"url(#clip0000)\" style=\"stroke:#000000; stroke-width:1; stroke-opacity:1; fill:none\" points=\"\n",
       "  59.4418,360.121 59.4418,11.811 \n",
       "  \"/>\n",
       "<polyline clip-path=\"url(#clip0000)\" style=\"stroke:#000000; stroke-width:1; stroke-opacity:1; fill:none\" points=\"\n",
       "  69.22,360.121 69.22,354.896 \n",
       "  \"/>\n",
       "<polyline clip-path=\"url(#clip0000)\" style=\"stroke:#000000; stroke-width:1; stroke-opacity:1; fill:none\" points=\"\n",
       "  193.308,360.121 193.308,354.896 \n",
       "  \"/>\n",
       "<polyline clip-path=\"url(#clip0000)\" style=\"stroke:#000000; stroke-width:1; stroke-opacity:1; fill:none\" points=\"\n",
       "  317.397,360.121 317.397,354.896 \n",
       "  \"/>\n",
       "<polyline clip-path=\"url(#clip0000)\" style=\"stroke:#000000; stroke-width:1; stroke-opacity:1; fill:none\" points=\"\n",
       "  441.485,360.121 441.485,354.896 \n",
       "  \"/>\n",
       "<polyline clip-path=\"url(#clip0000)\" style=\"stroke:#000000; stroke-width:1; stroke-opacity:1; fill:none\" points=\"\n",
       "  565.573,360.121 565.573,354.896 \n",
       "  \"/>\n",
       "<polyline clip-path=\"url(#clip0000)\" style=\"stroke:#000000; stroke-width:1; stroke-opacity:1; fill:none\" points=\"\n",
       "  59.4418,352.652 67.2549,352.652 \n",
       "  \"/>\n",
       "<polyline clip-path=\"url(#clip0000)\" style=\"stroke:#000000; stroke-width:1; stroke-opacity:1; fill:none\" points=\"\n",
       "  59.4418,275.695 67.2549,275.695 \n",
       "  \"/>\n",
       "<polyline clip-path=\"url(#clip0000)\" style=\"stroke:#000000; stroke-width:1; stroke-opacity:1; fill:none\" points=\"\n",
       "  59.4418,198.737 67.2549,198.737 \n",
       "  \"/>\n",
       "<polyline clip-path=\"url(#clip0000)\" style=\"stroke:#000000; stroke-width:1; stroke-opacity:1; fill:none\" points=\"\n",
       "  59.4418,121.78 67.2549,121.78 \n",
       "  \"/>\n",
       "<polyline clip-path=\"url(#clip0000)\" style=\"stroke:#000000; stroke-width:1; stroke-opacity:1; fill:none\" points=\"\n",
       "  59.4418,44.8231 67.2549,44.8231 \n",
       "  \"/>\n",
       "<g clip-path=\"url(#clip0000)\">\n",
       "<text style=\"fill:#000000; fill-opacity:1; font-family:Arial,Helvetica Neue,Helvetica,sans-serif; font-size:12; text-anchor:middle;\" transform=\"rotate(0, 69.22, 373.921)\" x=\"69.22\" y=\"373.921\">0</text>\n",
       "</g>\n",
       "<g clip-path=\"url(#clip0000)\">\n",
       "<text style=\"fill:#000000; fill-opacity:1; font-family:Arial,Helvetica Neue,Helvetica,sans-serif; font-size:12; text-anchor:middle;\" transform=\"rotate(0, 193.308, 373.921)\" x=\"193.308\" y=\"373.921\">25</text>\n",
       "</g>\n",
       "<g clip-path=\"url(#clip0000)\">\n",
       "<text style=\"fill:#000000; fill-opacity:1; font-family:Arial,Helvetica Neue,Helvetica,sans-serif; font-size:12; text-anchor:middle;\" transform=\"rotate(0, 317.397, 373.921)\" x=\"317.397\" y=\"373.921\">50</text>\n",
       "</g>\n",
       "<g clip-path=\"url(#clip0000)\">\n",
       "<text style=\"fill:#000000; fill-opacity:1; font-family:Arial,Helvetica Neue,Helvetica,sans-serif; font-size:12; text-anchor:middle;\" transform=\"rotate(0, 441.485, 373.921)\" x=\"441.485\" y=\"373.921\">75</text>\n",
       "</g>\n",
       "<g clip-path=\"url(#clip0000)\">\n",
       "<text style=\"fill:#000000; fill-opacity:1; font-family:Arial,Helvetica Neue,Helvetica,sans-serif; font-size:12; text-anchor:middle;\" transform=\"rotate(0, 565.573, 373.921)\" x=\"565.573\" y=\"373.921\">100</text>\n",
       "</g>\n",
       "<g clip-path=\"url(#clip0000)\">\n",
       "<text style=\"fill:#000000; fill-opacity:1; font-family:Arial,Helvetica Neue,Helvetica,sans-serif; font-size:12; text-anchor:end;\" transform=\"rotate(0, 53.4418, 357.152)\" x=\"53.4418\" y=\"357.152\">0</text>\n",
       "</g>\n",
       "<g clip-path=\"url(#clip0000)\">\n",
       "<text style=\"fill:#000000; fill-opacity:1; font-family:Arial,Helvetica Neue,Helvetica,sans-serif; font-size:12; text-anchor:end;\" transform=\"rotate(0, 53.4418, 280.195)\" x=\"53.4418\" y=\"280.195\">25</text>\n",
       "</g>\n",
       "<g clip-path=\"url(#clip0000)\">\n",
       "<text style=\"fill:#000000; fill-opacity:1; font-family:Arial,Helvetica Neue,Helvetica,sans-serif; font-size:12; text-anchor:end;\" transform=\"rotate(0, 53.4418, 203.237)\" x=\"53.4418\" y=\"203.237\">50</text>\n",
       "</g>\n",
       "<g clip-path=\"url(#clip0000)\">\n",
       "<text style=\"fill:#000000; fill-opacity:1; font-family:Arial,Helvetica Neue,Helvetica,sans-serif; font-size:12; text-anchor:end;\" transform=\"rotate(0, 53.4418, 126.28)\" x=\"53.4418\" y=\"126.28\">75</text>\n",
       "</g>\n",
       "<g clip-path=\"url(#clip0000)\">\n",
       "<text style=\"fill:#000000; fill-opacity:1; font-family:Arial,Helvetica Neue,Helvetica,sans-serif; font-size:12; text-anchor:end;\" transform=\"rotate(0, 53.4418, 49.3231)\" x=\"53.4418\" y=\"49.3231\">100</text>\n",
       "</g>\n",
       "<g clip-path=\"url(#clip0000)\">\n",
       "<text style=\"fill:#000000; fill-opacity:1; font-family:Arial,Helvetica Neue,Helvetica,sans-serif; font-size:16; text-anchor:middle;\" transform=\"rotate(0, 319.878, 397.6)\" x=\"319.878\" y=\"397.6\">number of samples</text>\n",
       "</g>\n",
       "<g clip-path=\"url(#clip0000)\">\n",
       "<text style=\"fill:#000000; fill-opacity:1; font-family:Arial,Helvetica Neue,Helvetica,sans-serif; font-size:16; text-anchor:middle;\" transform=\"rotate(-90, 14.4, 185.966)\" x=\"14.4\" y=\"185.966\">cumulative regret</text>\n",
       "</g>\n",
       "<polyline clip-path=\"url(#clip0002)\" style=\"stroke:#009af9; stroke-width:1; stroke-opacity:1; fill:none\" points=\"\n",
       "  74.1835,350.263 79.1471,346.814 84.1106,343.576 89.0741,339.975 94.0377,336.635 99.0012,332.587 103.965,329.458 108.928,326.61 113.892,323.557 118.855,320.553 \n",
       "  123.819,317.18 128.782,314.07 133.746,310.636 138.709,308.448 143.673,306.072 148.637,302.981 153.6,299.207 158.564,296.391 163.527,292.429 168.491,288.979 \n",
       "  173.454,284.499 178.418,282.076 183.381,278.311 188.345,275.477 193.308,272.218 198.272,269.322 203.235,266.496 208.199,263.68 213.162,261.25 218.126,257.341 \n",
       "  223.09,253.975 228.053,250.246 233.017,247.369 237.98,243.726 242.944,239.869 247.907,235.934 252.871,231.713 257.834,227.995 262.798,224.105 267.761,220.186 \n",
       "  272.725,216.812 277.688,213.69 282.652,209.599 287.615,206.626 292.579,204.838 297.542,201.496 302.506,198.484 307.47,195.775 312.433,192.404 317.397,188.731 \n",
       "  322.36,185.449 327.324,181.141 332.287,178.528 337.251,175.932 342.214,172.275 347.178,168.436 352.141,165.213 357.105,162.237 362.068,158.784 367.032,156.253 \n",
       "  371.995,153.387 376.959,149.739 381.923,146.254 386.886,143.194 391.85,139.621 396.813,136.03 401.777,131.731 406.74,129.18 411.704,125.42 416.667,121.947 \n",
       "  421.631,117.992 426.594,114.969 431.558,112.548 436.521,109.42 441.485,106.554 446.448,102.855 451.412,100.134 456.376,97.3861 461.339,94.2698 466.303,91.0918 \n",
       "  471.266,86.7869 476.23,84.4583 481.193,80.7357 486.157,77.7364 491.12,73.5391 496.084,71.1239 501.047,67.6519 506.011,64.1177 510.974,60.3563 515.938,56.6548 \n",
       "  520.901,53.2889 525.865,49.5563 530.829,47.5217 535.792,43.0804 540.756,39.7219 545.719,36.0845 550.683,33.0195 555.646,28.6676 560.61,25.3822 565.573,21.6688 \n",
       "  \n",
       "  \"/>\n",
       "<polyline clip-path=\"url(#clip0002)\" style=\"stroke:#e26f46; stroke-width:1; stroke-opacity:1; fill:none\" points=\"\n",
       "  74.1835,350.263 79.1471,346.844 84.1106,344.085 89.0741,340.444 94.0377,337.287 99.0012,333.974 103.965,331.259 108.928,328.952 113.892,325.131 118.855,322.074 \n",
       "  123.819,319.705 128.782,316.589 133.746,313.975 138.709,311.332 143.673,308.208 148.637,305.019 153.6,302.615 158.564,300.74 163.527,297.223 168.491,294.239 \n",
       "  173.454,291.24 178.418,288.508 183.381,284.915 188.345,281.794 193.308,278.691 198.272,277.166 203.235,274.489 208.199,271.711 213.162,268.667 218.126,264.839 \n",
       "  223.09,261.451 228.053,258.557 233.017,256.445 237.98,253.645 242.944,249.827 247.907,247.74 252.871,245.17 257.834,240.537 262.798,237.414 267.761,235.14 \n",
       "  272.725,232.216 277.688,229.931 282.652,226.09 287.615,223.376 292.579,220.55 297.542,218.594 302.506,215.324 307.47,212.306 312.433,210.028 317.397,208.273 \n",
       "  322.36,206.118 327.324,202.83 332.287,201.007 337.251,199.23 342.214,196.512 347.178,194.464 352.141,193.416 357.105,191.066 362.068,187.511 367.032,185.846 \n",
       "  371.995,184.281 376.959,182.353 381.923,180.505 386.886,177.95 391.85,174.927 396.813,172.675 401.777,169.932 406.74,165.95 411.704,163.709 416.667,160.888 \n",
       "  421.631,158.419 426.594,155.837 431.558,153.291 436.521,150.285 441.485,148.883 446.448,146.549 451.412,141.988 456.376,140.184 461.339,137.312 466.303,136.583 \n",
       "  471.266,134.305 476.23,130.684 481.193,127.973 486.157,125.474 491.12,123.879 496.084,121.072 501.047,118.628 506.011,116.984 510.974,115.358 515.938,113.462 \n",
       "  520.901,109.439 525.865,107.929 530.829,104.917 535.792,103.948 540.756,102.424 545.719,98.9152 550.683,95.6519 555.646,94.1497 560.61,92.8212 565.573,89.8144 \n",
       "  \n",
       "  \"/>\n",
       "<polyline clip-path=\"url(#clip0002)\" style=\"stroke:#3da44d; stroke-width:1; stroke-opacity:1; fill:none\" points=\"\n",
       "  74.1835,350.263 79.1471,346.814 84.1106,343.576 89.0741,339.974 94.0377,336.634 99.0012,332.587 103.965,329.454 108.928,326.606 113.892,323.553 118.855,320.549 \n",
       "  123.819,317.176 128.782,314.154 133.746,310.719 138.709,308.734 143.673,306.359 148.637,303.232 153.6,299.458 158.564,296.825 163.527,292.863 168.491,289.413 \n",
       "  173.454,284.911 178.418,282.493 183.381,278.728 188.345,275.894 193.308,272.817 198.272,269.921 203.235,267.095 208.199,264.279 213.162,261.849 218.126,257.94 \n",
       "  223.09,254.573 228.053,251.101 233.017,248.225 237.98,244.758 242.944,240.901 247.907,236.966 252.871,232.745 257.834,229.027 262.798,225.137 267.761,221.218 \n",
       "  272.725,218.147 277.688,215.025 282.652,210.934 287.615,207.962 292.579,206.173 297.542,202.831 302.506,200.049 307.47,197.341 312.433,193.969 317.397,190.296 \n",
       "  322.36,186.844 327.324,182.84 332.287,180.227 337.251,177.631 342.214,173.974 347.178,170.432 352.141,167.21 357.105,164.462 362.068,161.07 367.032,158.539 \n",
       "  371.995,155.931 376.959,152.485 381.923,149 386.886,145.94 391.85,142.367 396.813,138.776 401.777,134.688 406.74,132.137 411.704,128.377 416.667,124.904 \n",
       "  421.631,121.205 426.594,118.182 431.558,115.761 436.521,112.563 441.485,109.696 446.448,105.98 451.412,103.259 456.376,100.769 461.339,97.6523 466.303,94.8045 \n",
       "  471.266,90.4995 476.23,88.1709 481.193,84.6759 486.157,81.6766 491.12,77.4792 496.084,75.064 501.047,71.592 506.011,68.0579 510.974,64.2964 515.938,60.5949 \n",
       "  520.901,57.6216 525.865,53.8891 530.829,51.8544 535.792,47.4132 540.756,44.0546 545.719,40.5242 550.683,37.4592 555.646,33.3763 560.61,30.0909 565.573,26.3776 \n",
       "  \n",
       "  \"/>\n",
       "<polyline clip-path=\"url(#clip0002)\" style=\"stroke:#c271d2; stroke-width:1; stroke-opacity:1; fill:none\" points=\"\n",
       "  74.1835,350.263 79.1471,347.016 84.1106,343.04 89.0741,339.805 94.0377,336.904 99.0012,333.287 103.965,330.318 108.928,328.117 113.892,324.878 118.855,321.021 \n",
       "  123.819,317.657 128.782,314.548 133.746,311.115 138.709,306.758 143.673,303.123 148.637,299.1 153.6,295.933 158.564,292.204 163.527,289.073 168.491,286.118 \n",
       "  173.454,282.846 178.418,280.011 183.381,276.25 188.345,274.094 193.308,270.525 198.272,267.001 203.235,264.386 208.199,262.149 213.162,258.975 218.126,256.444 \n",
       "  223.09,253.587 228.053,250.837 233.017,248.12 237.98,245.298 242.944,242.663 247.907,239.856 252.871,236.884 257.834,233.844 262.798,230.462 267.761,228.119 \n",
       "  272.725,225.861 277.688,222.82 282.652,220.402 287.615,218.558 292.579,215.778 297.542,213.116 302.506,210.599 307.47,207.369 312.433,205.337 317.397,203.177 \n",
       "  322.36,201.03 327.324,199.257 332.287,196.563 337.251,194.927 342.214,192.324 347.178,189.844 352.141,187.275 357.105,185.014 362.068,181.847 367.032,178.511 \n",
       "  371.995,176.19 376.959,174.079 381.923,170.916 386.886,168.807 391.85,167.275 396.813,164.199 401.777,161.849 406.74,159.948 411.704,157.562 416.667,156.33 \n",
       "  421.631,155.316 426.594,153.159 431.558,151.569 436.521,149.251 441.485,147.142 446.448,145.658 451.412,144.124 456.376,142.357 461.339,142.243 466.303,140.913 \n",
       "  471.266,140.75 476.23,140.276 481.193,139.621 486.157,138.418 491.12,137.759 496.084,137.456 501.047,137.816 506.011,137.413 510.974,136.593 515.938,136.362 \n",
       "  520.901,135.598 525.865,135.319 530.829,135.063 535.792,134.668 540.756,133.904 545.719,134.03 550.683,132.904 555.646,132.962 560.61,131.679 565.573,131.292 \n",
       "  \n",
       "  \"/>\n",
       "<polyline clip-path=\"url(#clip0002)\" style=\"stroke:#ac8d18; stroke-width:1; stroke-opacity:1; fill:none\" points=\"\n",
       "  74.1835,350.263 79.1471,347.016 84.1106,343.04 89.0741,339.805 94.0377,336.904 99.0012,333.287 103.965,330.318 108.928,328.117 113.892,324.878 118.855,321.021 \n",
       "  123.819,317.657 128.782,314.548 133.746,311.115 138.709,306.758 143.673,303.123 148.637,299.1 153.6,295.933 158.564,292.204 163.527,289.073 168.491,286.118 \n",
       "  173.454,282.846 178.418,280.011 183.381,276.25 188.345,274.094 193.308,270.525 198.272,267.001 203.235,264.386 208.199,262.149 213.162,258.975 218.126,256.444 \n",
       "  223.09,253.587 228.053,250.837 233.017,248.12 237.98,245.298 242.944,242.663 247.907,239.856 252.871,236.884 257.834,233.844 262.798,230.462 267.761,228.119 \n",
       "  272.725,225.861 277.688,222.82 282.652,220.402 287.615,218.558 292.579,215.778 297.542,213.116 302.506,210.599 307.47,207.369 312.433,205.337 317.397,203.177 \n",
       "  322.36,201.03 327.324,199.257 332.287,196.563 337.251,194.927 342.214,192.324 347.178,189.844 352.141,187.275 357.105,185.014 362.068,181.847 367.032,178.511 \n",
       "  371.995,176.19 376.959,174.079 381.923,170.916 386.886,168.807 391.85,167.275 396.813,164.199 401.777,161.849 406.74,159.948 411.704,157.562 416.667,156.33 \n",
       "  421.631,155.316 426.594,153.159 431.558,151.569 436.521,149.251 441.485,147.142 446.448,145.658 451.412,144.124 456.376,142.357 461.339,142.243 466.303,140.913 \n",
       "  471.266,140.75 476.23,140.276 481.193,139.621 486.157,138.418 491.12,137.759 496.084,137.456 501.047,137.816 506.011,137.413 510.974,136.593 515.938,136.362 \n",
       "  520.901,135.598 525.865,135.319 530.829,135.063 535.792,134.668 540.756,133.904 545.719,134.03 550.683,132.904 555.646,132.962 560.61,131.679 565.573,131.292 \n",
       "  \n",
       "  \"/>\n",
       "<polygon clip-path=\"url(#clip0000)\" points=\"\n",
       "429.765,123.411 562.315,123.411 562.315,32.691 429.765,32.691 \n",
       "  \" fill=\"#ffffff\" fill-opacity=\"1\"/>\n",
       "<polyline clip-path=\"url(#clip0000)\" style=\"stroke:#000000; stroke-width:1; stroke-opacity:1; fill:none\" points=\"\n",
       "  429.765,123.411 562.315,123.411 562.315,32.691 429.765,32.691 429.765,123.411 \n",
       "  \"/>\n",
       "<polyline clip-path=\"url(#clip0000)\" style=\"stroke:#009af9; stroke-width:1; stroke-opacity:1; fill:none\" points=\"\n",
       "  435.765,47.811 471.765,47.811 \n",
       "  \"/>\n",
       "<g clip-path=\"url(#clip0000)\">\n",
       "<text style=\"fill:#000000; fill-opacity:1; font-family:Arial,Helvetica Neue,Helvetica,sans-serif; font-size:12; text-anchor:start;\" transform=\"rotate(0, 477.765, 52.311)\" x=\"477.765\" y=\"52.311\">Random</text>\n",
       "</g>\n",
       "<polyline clip-path=\"url(#clip0000)\" style=\"stroke:#e26f46; stroke-width:1; stroke-opacity:1; fill:none\" points=\"\n",
       "  435.765,62.931 471.765,62.931 \n",
       "  \"/>\n",
       "<g clip-path=\"url(#clip0000)\">\n",
       "<text style=\"fill:#000000; fill-opacity:1; font-family:Arial,Helvetica Neue,Helvetica,sans-serif; font-size:12; text-anchor:start;\" transform=\"rotate(0, 477.765, 67.431)\" x=\"477.765\" y=\"67.431\">PW</text>\n",
       "</g>\n",
       "<polyline clip-path=\"url(#clip0000)\" style=\"stroke:#3da44d; stroke-width:1; stroke-opacity:1; fill:none\" points=\"\n",
       "  435.765,78.051 471.765,78.051 \n",
       "  \"/>\n",
       "<g clip-path=\"url(#clip0000)\">\n",
       "<text style=\"fill:#000000; fill-opacity:1; font-family:Arial,Helvetica Neue,Helvetica,sans-serif; font-size:12; text-anchor:start;\" transform=\"rotate(0, 477.765, 82.551)\" x=\"477.765\" y=\"82.551\">SB</text>\n",
       "</g>\n",
       "<polyline clip-path=\"url(#clip0000)\" style=\"stroke:#c271d2; stroke-width:1; stroke-opacity:1; fill:none\" points=\"\n",
       "  435.765,93.171 471.765,93.171 \n",
       "  \"/>\n",
       "<g clip-path=\"url(#clip0000)\">\n",
       "<text style=\"fill:#000000; fill-opacity:1; font-family:Arial,Helvetica Neue,Helvetica,sans-serif; font-size:12; text-anchor:start;\" transform=\"rotate(0, 477.765, 97.671)\" x=\"477.765\" y=\"97.671\">GPUCB-Grid</text>\n",
       "</g>\n",
       "<polyline clip-path=\"url(#clip0000)\" style=\"stroke:#ac8d18; stroke-width:1; stroke-opacity:1; fill:none\" points=\"\n",
       "  435.765,108.291 471.765,108.291 \n",
       "  \"/>\n",
       "<g clip-path=\"url(#clip0000)\">\n",
       "<text style=\"fill:#000000; fill-opacity:1; font-family:Arial,Helvetica Neue,Helvetica,sans-serif; font-size:12; text-anchor:start;\" transform=\"rotate(0, 477.765, 112.791)\" x=\"477.765\" y=\"112.791\">GPUCB</text>\n",
       "</g>\n",
       "</svg>\n"
      ]
     },
     "execution_count": 7,
     "metadata": {},
     "output_type": "execute_result"
    }
   ],
   "source": [
    "plot(result, :cum_regret)"
   ]
  },
  {
   "cell_type": "code",
   "execution_count": 8,
   "metadata": {},
   "outputs": [
    {
     "data": {
      "image/svg+xml": [
       "<?xml version=\"1.0\" encoding=\"utf-8\"?>\n",
       "<svg xmlns=\"http://www.w3.org/2000/svg\" xmlns:xlink=\"http://www.w3.org/1999/xlink\" width=\"600\" height=\"400\" viewBox=\"0 0 600 400\">\n",
       "<defs>\n",
       "  <clipPath id=\"clip0200\">\n",
       "    <rect x=\"0\" y=\"0\" width=\"600\" height=\"400\"/>\n",
       "  </clipPath>\n",
       "</defs>\n",
       "<polygon clip-path=\"url(#clip0200)\" points=\"\n",
       "0,400 600,400 600,0 0,0 \n",
       "  \" fill=\"#ffffff\" fill-opacity=\"1\"/>\n",
       "<defs>\n",
       "  <clipPath id=\"clip0201\">\n",
       "    <rect x=\"120\" y=\"0\" width=\"421\" height=\"400\"/>\n",
       "  </clipPath>\n",
       "</defs>\n",
       "<polygon clip-path=\"url(#clip0200)\" points=\"\n",
       "56.0965,360.121 580.315,360.121 580.315,11.811 56.0965,11.811 \n",
       "  \" fill=\"#ffffff\" fill-opacity=\"1\"/>\n",
       "<defs>\n",
       "  <clipPath id=\"clip0202\">\n",
       "    <rect x=\"56\" y=\"11\" width=\"525\" height=\"349\"/>\n",
       "  </clipPath>\n",
       "</defs>\n",
       "<polyline clip-path=\"url(#clip0202)\" style=\"stroke:#000000; stroke-width:0.5; stroke-opacity:0.1; fill:none\" points=\"\n",
       "  65.9375,360.121 65.9375,11.811 \n",
       "  \"/>\n",
       "<polyline clip-path=\"url(#clip0202)\" style=\"stroke:#000000; stroke-width:0.5; stroke-opacity:0.1; fill:none\" points=\"\n",
       "  190.823,360.121 190.823,11.811 \n",
       "  \"/>\n",
       "<polyline clip-path=\"url(#clip0202)\" style=\"stroke:#000000; stroke-width:0.5; stroke-opacity:0.1; fill:none\" points=\"\n",
       "  315.708,360.121 315.708,11.811 \n",
       "  \"/>\n",
       "<polyline clip-path=\"url(#clip0202)\" style=\"stroke:#000000; stroke-width:0.5; stroke-opacity:0.1; fill:none\" points=\"\n",
       "  440.593,360.121 440.593,11.811 \n",
       "  \"/>\n",
       "<polyline clip-path=\"url(#clip0202)\" style=\"stroke:#000000; stroke-width:0.5; stroke-opacity:0.1; fill:none\" points=\"\n",
       "  565.479,360.121 565.479,11.811 \n",
       "  \"/>\n",
       "<polyline clip-path=\"url(#clip0202)\" style=\"stroke:#000000; stroke-width:0.5; stroke-opacity:0.1; fill:none\" points=\"\n",
       "  56.0965,326.183 580.315,326.183 \n",
       "  \"/>\n",
       "<polyline clip-path=\"url(#clip0202)\" style=\"stroke:#000000; stroke-width:0.5; stroke-opacity:0.1; fill:none\" points=\"\n",
       "  56.0965,258.182 580.315,258.182 \n",
       "  \"/>\n",
       "<polyline clip-path=\"url(#clip0202)\" style=\"stroke:#000000; stroke-width:0.5; stroke-opacity:0.1; fill:none\" points=\"\n",
       "  56.0965,190.182 580.315,190.182 \n",
       "  \"/>\n",
       "<polyline clip-path=\"url(#clip0202)\" style=\"stroke:#000000; stroke-width:0.5; stroke-opacity:0.1; fill:none\" points=\"\n",
       "  56.0965,122.181 580.315,122.181 \n",
       "  \"/>\n",
       "<polyline clip-path=\"url(#clip0202)\" style=\"stroke:#000000; stroke-width:0.5; stroke-opacity:0.1; fill:none\" points=\"\n",
       "  56.0965,54.1808 580.315,54.1808 \n",
       "  \"/>\n",
       "<polyline clip-path=\"url(#clip0200)\" style=\"stroke:#000000; stroke-width:1; stroke-opacity:1; fill:none\" points=\"\n",
       "  56.0965,360.121 580.315,360.121 \n",
       "  \"/>\n",
       "<polyline clip-path=\"url(#clip0200)\" style=\"stroke:#000000; stroke-width:1; stroke-opacity:1; fill:none\" points=\"\n",
       "  56.0965,360.121 56.0965,11.811 \n",
       "  \"/>\n",
       "<polyline clip-path=\"url(#clip0200)\" style=\"stroke:#000000; stroke-width:1; stroke-opacity:1; fill:none\" points=\"\n",
       "  65.9375,360.121 65.9375,354.896 \n",
       "  \"/>\n",
       "<polyline clip-path=\"url(#clip0200)\" style=\"stroke:#000000; stroke-width:1; stroke-opacity:1; fill:none\" points=\"\n",
       "  190.823,360.121 190.823,354.896 \n",
       "  \"/>\n",
       "<polyline clip-path=\"url(#clip0200)\" style=\"stroke:#000000; stroke-width:1; stroke-opacity:1; fill:none\" points=\"\n",
       "  315.708,360.121 315.708,354.896 \n",
       "  \"/>\n",
       "<polyline clip-path=\"url(#clip0200)\" style=\"stroke:#000000; stroke-width:1; stroke-opacity:1; fill:none\" points=\"\n",
       "  440.593,360.121 440.593,354.896 \n",
       "  \"/>\n",
       "<polyline clip-path=\"url(#clip0200)\" style=\"stroke:#000000; stroke-width:1; stroke-opacity:1; fill:none\" points=\"\n",
       "  565.479,360.121 565.479,354.896 \n",
       "  \"/>\n",
       "<polyline clip-path=\"url(#clip0200)\" style=\"stroke:#000000; stroke-width:1; stroke-opacity:1; fill:none\" points=\"\n",
       "  56.0965,326.183 63.9598,326.183 \n",
       "  \"/>\n",
       "<polyline clip-path=\"url(#clip0200)\" style=\"stroke:#000000; stroke-width:1; stroke-opacity:1; fill:none\" points=\"\n",
       "  56.0965,258.182 63.9598,258.182 \n",
       "  \"/>\n",
       "<polyline clip-path=\"url(#clip0200)\" style=\"stroke:#000000; stroke-width:1; stroke-opacity:1; fill:none\" points=\"\n",
       "  56.0965,190.182 63.9598,190.182 \n",
       "  \"/>\n",
       "<polyline clip-path=\"url(#clip0200)\" style=\"stroke:#000000; stroke-width:1; stroke-opacity:1; fill:none\" points=\"\n",
       "  56.0965,122.181 63.9598,122.181 \n",
       "  \"/>\n",
       "<polyline clip-path=\"url(#clip0200)\" style=\"stroke:#000000; stroke-width:1; stroke-opacity:1; fill:none\" points=\"\n",
       "  56.0965,54.1808 63.9598,54.1808 \n",
       "  \"/>\n",
       "<g clip-path=\"url(#clip0200)\">\n",
       "<text style=\"fill:#000000; fill-opacity:1; font-family:Arial,Helvetica Neue,Helvetica,sans-serif; font-size:12; text-anchor:middle;\" transform=\"rotate(0, 65.9375, 373.921)\" x=\"65.9375\" y=\"373.921\">0</text>\n",
       "</g>\n",
       "<g clip-path=\"url(#clip0200)\">\n",
       "<text style=\"fill:#000000; fill-opacity:1; font-family:Arial,Helvetica Neue,Helvetica,sans-serif; font-size:12; text-anchor:middle;\" transform=\"rotate(0, 190.823, 373.921)\" x=\"190.823\" y=\"373.921\">25</text>\n",
       "</g>\n",
       "<g clip-path=\"url(#clip0200)\">\n",
       "<text style=\"fill:#000000; fill-opacity:1; font-family:Arial,Helvetica Neue,Helvetica,sans-serif; font-size:12; text-anchor:middle;\" transform=\"rotate(0, 315.708, 373.921)\" x=\"315.708\" y=\"373.921\">50</text>\n",
       "</g>\n",
       "<g clip-path=\"url(#clip0200)\">\n",
       "<text style=\"fill:#000000; fill-opacity:1; font-family:Arial,Helvetica Neue,Helvetica,sans-serif; font-size:12; text-anchor:middle;\" transform=\"rotate(0, 440.593, 373.921)\" x=\"440.593\" y=\"373.921\">75</text>\n",
       "</g>\n",
       "<g clip-path=\"url(#clip0200)\">\n",
       "<text style=\"fill:#000000; fill-opacity:1; font-family:Arial,Helvetica Neue,Helvetica,sans-serif; font-size:12; text-anchor:middle;\" transform=\"rotate(0, 565.479, 373.921)\" x=\"565.479\" y=\"373.921\">100</text>\n",
       "</g>\n",
       "<g clip-path=\"url(#clip0200)\">\n",
       "<text style=\"fill:#000000; fill-opacity:1; font-family:Arial,Helvetica Neue,Helvetica,sans-serif; font-size:12; text-anchor:end;\" transform=\"rotate(0, 50.0965, 330.683)\" x=\"50.0965\" y=\"330.683\">0.2</text>\n",
       "</g>\n",
       "<g clip-path=\"url(#clip0200)\">\n",
       "<text style=\"fill:#000000; fill-opacity:1; font-family:Arial,Helvetica Neue,Helvetica,sans-serif; font-size:12; text-anchor:end;\" transform=\"rotate(0, 50.0965, 262.682)\" x=\"50.0965\" y=\"262.682\">0.4</text>\n",
       "</g>\n",
       "<g clip-path=\"url(#clip0200)\">\n",
       "<text style=\"fill:#000000; fill-opacity:1; font-family:Arial,Helvetica Neue,Helvetica,sans-serif; font-size:12; text-anchor:end;\" transform=\"rotate(0, 50.0965, 194.682)\" x=\"50.0965\" y=\"194.682\">0.6</text>\n",
       "</g>\n",
       "<g clip-path=\"url(#clip0200)\">\n",
       "<text style=\"fill:#000000; fill-opacity:1; font-family:Arial,Helvetica Neue,Helvetica,sans-serif; font-size:12; text-anchor:end;\" transform=\"rotate(0, 50.0965, 126.681)\" x=\"50.0965\" y=\"126.681\">0.8</text>\n",
       "</g>\n",
       "<g clip-path=\"url(#clip0200)\">\n",
       "<text style=\"fill:#000000; fill-opacity:1; font-family:Arial,Helvetica Neue,Helvetica,sans-serif; font-size:12; text-anchor:end;\" transform=\"rotate(0, 50.0965, 58.6808)\" x=\"50.0965\" y=\"58.6808\">1.0</text>\n",
       "</g>\n",
       "<g clip-path=\"url(#clip0200)\">\n",
       "<text style=\"fill:#000000; fill-opacity:1; font-family:Arial,Helvetica Neue,Helvetica,sans-serif; font-size:16; text-anchor:middle;\" transform=\"rotate(0, 318.206, 397.6)\" x=\"318.206\" y=\"397.6\">number of samples</text>\n",
       "</g>\n",
       "<g clip-path=\"url(#clip0200)\">\n",
       "<text style=\"fill:#000000; fill-opacity:1; font-family:Arial,Helvetica Neue,Helvetica,sans-serif; font-size:16; text-anchor:middle;\" transform=\"rotate(-90, 14.4, 185.966)\" x=\"14.4\" y=\"185.966\">simple regret</text>\n",
       "</g>\n",
       "<polyline clip-path=\"url(#clip0202)\" style=\"stroke:#009af9; stroke-width:1; stroke-opacity:1; fill:none\" points=\"\n",
       "  70.9329,24.1067 75.9283,23.9491 80.9237,44.0405 85.9191,29.2081 90.9146,29.7167 95.91,29.7167 100.905,67.4042 105.901,69.2622 110.896,93.4311 115.892,115.335 \n",
       "  120.887,115.335 125.882,112.968 130.878,114.826 135.873,136.874 140.869,136.874 145.864,148.804 150.859,148.804 155.855,150.073 160.85,150.073 165.846,150.073 \n",
       "  170.841,150.073 175.837,153.538 180.832,153.538 185.827,153.538 190.823,153.538 195.818,150.412 200.814,150.412 205.809,150.412 210.804,136.233 215.8,136.233 \n",
       "  220.795,136.233 225.791,136.233 230.786,136.233 235.781,105.204 240.777,105.204 245.772,105.204 250.768,105.204 255.763,105.204 260.759,105.204 265.754,105.204 \n",
       "  270.749,105.204 275.745,105.204 280.74,105.204 285.736,105.204 290.731,105.204 295.726,134.178 300.722,151.659 305.717,151.659 310.713,151.659 315.708,151.659 \n",
       "  320.703,151.659 325.699,151.659 330.694,151.659 335.69,151.659 340.685,151.659 345.681,151.659 350.676,151.659 355.671,151.659 360.667,151.659 365.662,151.659 \n",
       "  370.658,151.659 375.653,151.659 380.648,151.659 385.644,151.659 390.639,151.659 395.635,151.659 400.63,151.659 405.625,150.095 410.621,150.095 415.616,150.095 \n",
       "  420.612,150.095 425.607,150.095 430.602,150.095 435.598,150.095 440.593,164.188 445.589,164.188 450.584,164.188 455.58,164.188 460.575,164.188 465.57,164.188 \n",
       "  470.566,142.499 475.561,142.499 480.557,142.499 485.552,142.499 490.547,142.499 495.543,142.499 500.538,142.499 505.534,142.499 510.529,142.499 515.524,142.499 \n",
       "  520.52,132.737 525.515,132.737 530.511,132.737 535.506,132.737 540.502,132.737 545.497,132.737 550.492,132.737 555.488,132.737 560.483,132.737 565.479,132.737 \n",
       "  \n",
       "  \"/>\n",
       "<polyline clip-path=\"url(#clip0202)\" style=\"stroke:#e26f46; stroke-width:1; stroke-opacity:1; fill:none\" points=\"\n",
       "  70.9329,24.1067 75.9283,24.1067 80.9237,43.9776 85.9191,43.9776 90.9146,51.89 95.91,78.8916 100.905,107.947 105.901,107.947 110.896,106.378 115.892,106.905 \n",
       "  120.887,106.882 125.882,92.2134 130.878,107.046 135.873,92.2134 140.869,110.482 145.864,105.641 150.859,129.231 155.855,129.231 160.85,111.62 165.846,126.864 \n",
       "  170.841,141.697 175.837,135.717 180.832,135.642 185.827,115.004 190.823,156.401 195.818,156.401 200.814,118.12 205.809,115.462 210.804,133.779 215.8,133.779 \n",
       "  220.795,154.034 225.791,154.034 230.786,154.034 235.781,100.616 240.777,154.034 245.772,142.039 250.768,158.836 255.763,156.903 260.759,156.903 265.754,159.27 \n",
       "  270.749,161.203 275.745,158.628 280.74,132.032 285.736,143.639 290.731,134.607 295.726,134.607 300.722,152.722 305.717,190.5 310.713,190.997 315.708,189.079 \n",
       "  320.703,138.185 325.699,190.5 330.694,197.599 335.69,189.064 340.685,149.615 345.681,180.984 350.676,181.007 355.671,170.768 360.667,208.159 365.662,218.375 \n",
       "  370.658,218.375 375.653,218.383 380.648,208.159 385.644,175.938 390.639,194.255 395.635,226.463 400.63,226.463 405.625,220.855 410.621,230.593 415.616,239.172 \n",
       "  420.612,239.172 425.607,250.137 430.602,230.593 435.598,248.204 440.593,248.204 445.589,248.204 450.584,248.204 455.58,239.172 460.575,239.172 465.57,239.172 \n",
       "  470.566,239.172 475.561,220.865 480.557,220.855 485.552,239.172 490.547,239.172 495.543,239.172 500.538,239.172 505.534,235.526 510.529,235.526 515.524,258.055 \n",
       "  520.52,238.2 525.515,258.055 530.511,258.055 535.506,258.055 540.502,258.055 545.497,222.083 550.492,240.581 555.488,258.055 560.483,258.055 565.479,258.747 \n",
       "  \n",
       "  \"/>\n",
       "<polyline clip-path=\"url(#clip0202)\" style=\"stroke:#3da44d; stroke-width:1; stroke-opacity:1; fill:none\" points=\"\n",
       "  70.9329,24.1067 75.9283,23.9491 80.9237,44.0405 85.9191,29.2081 90.9146,29.7167 95.91,29.7167 100.905,66.4464 105.901,76.2243 110.896,93.4311 115.892,115.335 \n",
       "  120.887,115.335 125.882,112.968 130.878,114.826 135.873,139.909 140.869,139.909 145.864,147.904 150.859,147.904 155.855,141.177 160.85,141.177 165.846,141.177 \n",
       "  170.841,141.177 175.837,152.638 180.832,152.638 185.827,152.638 190.823,152.638 195.818,149.512 200.814,149.512 205.809,169.016 210.804,154.838 215.8,154.838 \n",
       "  220.795,154.838 225.791,159.149 230.786,159.149 235.781,104.304 240.777,104.304 245.772,104.304 250.768,104.304 255.763,104.304 260.759,104.304 265.754,104.304 \n",
       "  270.749,104.304 275.745,108.716 280.74,108.716 285.736,104.314 290.731,104.314 295.726,137.213 300.722,151.659 305.717,151.659 310.713,151.659 315.708,151.659 \n",
       "  320.703,155.526 325.699,172.435 330.694,172.435 335.69,172.435 340.685,172.435 345.681,168.568 350.676,193.692 355.671,193.692 360.667,193.692 365.662,193.692 \n",
       "  370.658,193.692 375.653,196.727 380.648,196.727 385.644,196.727 390.639,196.727 395.635,196.727 400.63,196.727 405.625,195.163 410.621,195.163 415.616,195.163 \n",
       "  420.612,170.036 425.607,170.036 430.602,170.036 435.598,170.036 440.593,181.095 445.589,181.633 450.584,207.453 455.58,207.453 460.575,207.453 465.57,195.857 \n",
       "  470.566,185.629 475.561,185.629 480.557,191.534 485.552,191.534 490.547,191.534 495.543,191.534 500.538,191.534 505.534,186.687 510.529,186.687 515.524,186.687 \n",
       "  520.52,185.993 525.515,186.531 530.511,190.809 535.506,190.809 540.502,190.809 545.497,201.037 550.492,201.037 555.488,201.037 560.483,201.037 565.479,201.037 \n",
       "  \n",
       "  \"/>\n",
       "<polyline clip-path=\"url(#clip0202)\" style=\"stroke:#c271d2; stroke-width:1; stroke-opacity:1; fill:none\" points=\"\n",
       "  70.9329,24.1067 75.9283,24.895 80.9237,44.4344 85.9191,21.6688 90.9146,49.0139 95.91,49.3115 100.905,81.0568 105.901,96.1924 110.896,89.8741 115.892,84.8884 \n",
       "  120.887,83.5714 125.882,102.363 130.878,106.922 135.873,102.648 140.869,121.39 145.864,146.935 150.859,132.837 155.855,115.517 160.85,114.351 165.846,108.491 \n",
       "  170.841,138.441 175.837,144.402 180.832,109.921 185.827,150.439 190.823,152.599 195.818,153.293 200.814,183.343 205.809,185.158 210.804,184.696 215.8,183.748 \n",
       "  220.795,158.684 225.791,159.057 230.786,158.206 235.781,138.972 240.777,163.757 245.772,162.822 250.768,161.564 255.763,159.538 260.759,158.825 265.754,158.918 \n",
       "  270.749,174.274 275.745,172.874 280.74,207.561 285.736,211.651 290.731,212.765 295.726,209.627 300.722,218.498 305.717,184.002 310.713,187.799 315.708,186.91 \n",
       "  320.703,200.591 325.699,204.183 330.694,207.773 335.69,186.827 340.685,188.144 345.681,187.253 350.676,214.527 355.671,223.694 360.667,245.8 365.662,227.554 \n",
       "  370.658,221.424 375.653,217.674 380.648,240.017 385.644,210.148 390.639,245.535 395.635,185.058 400.63,219.935 405.625,226.66 410.621,219.273 415.616,225.483 \n",
       "  420.612,247.624 425.607,276.1 430.602,231.865 435.598,257.093 440.593,254.22 445.589,255.257 450.584,262.26 455.58,266.504 460.575,270.899 465.57,272.117 \n",
       "  470.566,275.189 475.561,276.799 480.557,301.907 485.552,303.621 490.547,307.094 495.543,310.42 500.538,323.51 505.534,340.037 510.529,336.689 515.524,346.881 \n",
       "  520.52,348.132 525.515,342.917 530.511,340.425 535.506,342.066 540.502,342.297 545.497,342.589 550.492,341.07 555.488,346.56 560.483,350.263 565.479,343.58 \n",
       "  \n",
       "  \"/>\n",
       "<polyline clip-path=\"url(#clip0202)\" style=\"stroke:#ac8d18; stroke-width:1; stroke-opacity:1; fill:none\" points=\"\n",
       "  70.9329,24.1067 75.9283,24.895 80.9237,44.4344 85.9191,21.6688 90.9146,49.0139 95.91,49.3115 100.905,81.0568 105.901,96.1924 110.896,89.8741 115.892,84.8884 \n",
       "  120.887,83.5714 125.882,102.363 130.878,106.922 135.873,102.648 140.869,121.39 145.864,146.935 150.859,132.837 155.855,115.517 160.85,114.351 165.846,108.491 \n",
       "  170.841,138.441 175.837,144.402 180.832,109.921 185.827,150.439 190.823,152.599 195.818,153.293 200.814,183.343 205.809,185.158 210.804,184.696 215.8,183.748 \n",
       "  220.795,158.684 225.791,159.057 230.786,158.206 235.781,138.972 240.777,163.757 245.772,162.822 250.768,161.564 255.763,159.538 260.759,158.825 265.754,158.918 \n",
       "  270.749,174.274 275.745,172.874 280.74,207.561 285.736,211.651 290.731,212.765 295.726,209.627 300.722,218.498 305.717,184.002 310.713,187.799 315.708,186.91 \n",
       "  320.703,200.591 325.699,204.183 330.694,207.773 335.69,186.827 340.685,188.144 345.681,187.253 350.676,214.527 355.671,223.694 360.667,245.8 365.662,227.554 \n",
       "  370.658,221.424 375.653,217.674 380.648,240.017 385.644,210.148 390.639,245.535 395.635,185.058 400.63,219.935 405.625,226.66 410.621,219.273 415.616,225.483 \n",
       "  420.612,247.624 425.607,276.1 430.602,231.865 435.598,257.093 440.593,254.22 445.589,255.257 450.584,262.26 455.58,266.504 460.575,270.899 465.57,272.117 \n",
       "  470.566,275.189 475.561,276.799 480.557,301.907 485.552,303.621 490.547,307.094 495.543,310.42 500.538,323.51 505.534,340.037 510.529,336.689 515.524,346.881 \n",
       "  520.52,348.132 525.515,342.917 530.511,340.425 535.506,342.066 540.502,342.297 545.497,342.589 550.492,341.07 555.488,346.56 560.483,350.263 565.479,343.58 \n",
       "  \n",
       "  \"/>\n",
       "<polygon clip-path=\"url(#clip0200)\" points=\"\n",
       "429.765,123.411 562.315,123.411 562.315,32.691 429.765,32.691 \n",
       "  \" fill=\"#ffffff\" fill-opacity=\"1\"/>\n",
       "<polyline clip-path=\"url(#clip0200)\" style=\"stroke:#000000; stroke-width:1; stroke-opacity:1; fill:none\" points=\"\n",
       "  429.765,123.411 562.315,123.411 562.315,32.691 429.765,32.691 429.765,123.411 \n",
       "  \"/>\n",
       "<polyline clip-path=\"url(#clip0200)\" style=\"stroke:#009af9; stroke-width:1; stroke-opacity:1; fill:none\" points=\"\n",
       "  435.765,47.811 471.765,47.811 \n",
       "  \"/>\n",
       "<g clip-path=\"url(#clip0200)\">\n",
       "<text style=\"fill:#000000; fill-opacity:1; font-family:Arial,Helvetica Neue,Helvetica,sans-serif; font-size:12; text-anchor:start;\" transform=\"rotate(0, 477.765, 52.311)\" x=\"477.765\" y=\"52.311\">Random</text>\n",
       "</g>\n",
       "<polyline clip-path=\"url(#clip0200)\" style=\"stroke:#e26f46; stroke-width:1; stroke-opacity:1; fill:none\" points=\"\n",
       "  435.765,62.931 471.765,62.931 \n",
       "  \"/>\n",
       "<g clip-path=\"url(#clip0200)\">\n",
       "<text style=\"fill:#000000; fill-opacity:1; font-family:Arial,Helvetica Neue,Helvetica,sans-serif; font-size:12; text-anchor:start;\" transform=\"rotate(0, 477.765, 67.431)\" x=\"477.765\" y=\"67.431\">PW</text>\n",
       "</g>\n",
       "<polyline clip-path=\"url(#clip0200)\" style=\"stroke:#3da44d; stroke-width:1; stroke-opacity:1; fill:none\" points=\"\n",
       "  435.765,78.051 471.765,78.051 \n",
       "  \"/>\n",
       "<g clip-path=\"url(#clip0200)\">\n",
       "<text style=\"fill:#000000; fill-opacity:1; font-family:Arial,Helvetica Neue,Helvetica,sans-serif; font-size:12; text-anchor:start;\" transform=\"rotate(0, 477.765, 82.551)\" x=\"477.765\" y=\"82.551\">SB</text>\n",
       "</g>\n",
       "<polyline clip-path=\"url(#clip0200)\" style=\"stroke:#c271d2; stroke-width:1; stroke-opacity:1; fill:none\" points=\"\n",
       "  435.765,93.171 471.765,93.171 \n",
       "  \"/>\n",
       "<g clip-path=\"url(#clip0200)\">\n",
       "<text style=\"fill:#000000; fill-opacity:1; font-family:Arial,Helvetica Neue,Helvetica,sans-serif; font-size:12; text-anchor:start;\" transform=\"rotate(0, 477.765, 97.671)\" x=\"477.765\" y=\"97.671\">GPUCB-Grid</text>\n",
       "</g>\n",
       "<polyline clip-path=\"url(#clip0200)\" style=\"stroke:#ac8d18; stroke-width:1; stroke-opacity:1; fill:none\" points=\"\n",
       "  435.765,108.291 471.765,108.291 \n",
       "  \"/>\n",
       "<g clip-path=\"url(#clip0200)\">\n",
       "<text style=\"fill:#000000; fill-opacity:1; font-family:Arial,Helvetica Neue,Helvetica,sans-serif; font-size:12; text-anchor:start;\" transform=\"rotate(0, 477.765, 112.791)\" x=\"477.765\" y=\"112.791\">GPUCB</text>\n",
       "</g>\n",
       "</svg>\n"
      ]
     },
     "execution_count": 8,
     "metadata": {},
     "output_type": "execute_result"
    }
   ],
   "source": [
    "plot(result, :simple_regret)"
   ]
  },
  {
   "cell_type": "code",
   "execution_count": 9,
   "metadata": {},
   "outputs": [
    {
     "data": {
      "text/plain": [
       "5-element Array{Any,1}:\n",
       " \"Random\"=>[1.08845; 1.08892; … ; 0.768955; 0.768955]    \n",
       " \"PW\"=>[1.08845; 1.08845; … ; 0.400375; 0.398338]        \n",
       " \"SB\"=>[1.08845; 1.08892; … ; 0.568072; 0.568072]        \n",
       " \"GPUCB-Grid\"=>[1.08845; 1.08613; … ; 0.129176; 0.148831]\n",
       " \"GPUCB\"=>[1.08845; 1.08613; … ; 0.129176; 0.148831]     "
      ]
     },
     "execution_count": 9,
     "metadata": {},
     "output_type": "execute_result"
    }
   ],
   "source": [
    "result.simple_regrets"
   ]
  },
  {
   "cell_type": "code",
   "execution_count": 13,
   "metadata": {},
   "outputs": [
    {
     "data": {
      "text/plain": [
       "100×1 Array{Float64,2}:\n",
       "  0.77604\n",
       "  1.83085\n",
       "  3.1223 \n",
       "  4.17345\n",
       "  5.11586\n",
       "  6.29087\n",
       "  7.25512\n",
       "  7.9704 \n",
       "  9.02245\n",
       " 10.2755 \n",
       " 11.3682 \n",
       " 12.3784 \n",
       " 13.4936 \n",
       "  ⋮      \n",
       " 70.188  \n",
       " 70.2629 \n",
       " 70.5111 \n",
       " 70.6018 \n",
       " 70.6851 \n",
       " 70.8132 \n",
       " 71.0614 \n",
       " 71.0205 \n",
       " 71.3863 \n",
       " 71.3676 \n",
       " 71.7844 \n",
       " 71.9102 "
      ]
     },
     "execution_count": 13,
     "metadata": {},
     "output_type": "execute_result"
    }
   ],
   "source": [
    "result.cum_regrets[5][2]"
   ]
  },
  {
   "cell_type": "code",
   "execution_count": 14,
   "metadata": {},
   "outputs": [
    {
     "data": {
      "text/plain": [
       "100×1 Array{Float64,2}:\n",
       "  0.77604\n",
       "  1.83085\n",
       "  3.1223 \n",
       "  4.17345\n",
       "  5.11586\n",
       "  6.29087\n",
       "  7.25512\n",
       "  7.9704 \n",
       "  9.02245\n",
       " 10.2755 \n",
       " 11.3682 \n",
       " 12.3784 \n",
       " 13.4936 \n",
       "  ⋮      \n",
       " 70.188  \n",
       " 70.2629 \n",
       " 70.5111 \n",
       " 70.6018 \n",
       " 70.6851 \n",
       " 70.8132 \n",
       " 71.0614 \n",
       " 71.0205 \n",
       " 71.3863 \n",
       " 71.3676 \n",
       " 71.7844 \n",
       " 71.9102 "
      ]
     },
     "execution_count": 14,
     "metadata": {},
     "output_type": "execute_result"
    }
   ],
   "source": [
    "result.cum_regrets[4][2]"
   ]
  },
  {
   "cell_type": "code",
   "execution_count": null,
   "metadata": {},
   "outputs": [],
   "source": []
  }
 ],
 "metadata": {
  "kernelspec": {
   "display_name": "Julia 0.6.2",
   "language": "julia",
   "name": "julia-0.6"
  },
  "language_info": {
   "file_extension": ".jl",
   "mimetype": "application/julia",
   "name": "julia",
   "version": "0.6.2"
  }
 },
 "nbformat": 4,
 "nbformat_minor": 2
}
