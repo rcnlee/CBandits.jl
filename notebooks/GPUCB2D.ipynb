{
 "cells": [
  {
   "cell_type": "code",
   "execution_count": 1,
   "metadata": {},
   "outputs": [
    {
     "data": {
      "text/plain": [
       "Plots.GRBackend()"
      ]
     },
     "execution_count": 1,
     "metadata": {},
     "output_type": "execute_result"
    }
   ],
   "source": [
    "using CBandits\n",
    "using POMDPs\n",
    "using DataFrames\n",
    "using Plots; gr()"
   ]
  },
  {
   "cell_type": "raw",
   "metadata": {},
   "source": [
    "A = UniformActions2D()"
   ]
  },
  {
   "cell_type": "raw",
   "metadata": {},
   "source": [
    "plot(A)"
   ]
  },
  {
   "cell_type": "raw",
   "metadata": {},
   "source": [
    "A = GaussianActions2D()"
   ]
  },
  {
   "cell_type": "raw",
   "metadata": {},
   "source": [
    "plot(A)"
   ]
  },
  {
   "cell_type": "raw",
   "metadata": {},
   "source": [
    "G = NarrowBump2D()"
   ]
  },
  {
   "cell_type": "raw",
   "metadata": {},
   "source": [
    "plot(G)"
   ]
  },
  {
   "cell_type": "raw",
   "metadata": {},
   "source": [
    "plot(G, Base.GLOBAL_RNG)"
   ]
  },
  {
   "cell_type": "raw",
   "metadata": {},
   "source": [
    "G = WideBump2D()"
   ]
  },
  {
   "cell_type": "raw",
   "metadata": {},
   "source": [
    "plot(G)"
   ]
  },
  {
   "cell_type": "raw",
   "metadata": {},
   "source": [
    "plot(G, Base.GLOBAL_RNG)"
   ]
  },
  {
   "cell_type": "raw",
   "metadata": {
    "scrolled": true
   },
   "source": [
    "G = Rosenbrock()"
   ]
  },
  {
   "cell_type": "raw",
   "metadata": {},
   "source": [
    "plot(G)"
   ]
  },
  {
   "cell_type": "raw",
   "metadata": {},
   "source": [
    "plot(G, Base.GLOBAL_RNG)"
   ]
  },
  {
   "cell_type": "code",
   "execution_count": 2,
   "metadata": {},
   "outputs": [
    {
     "data": {
      "text/plain": [
       "CBandits.DistributionFunc2D(\"WideBump2D\", DiagNormal(\n",
       "dim: 2\n",
       "μ: [0.25, 0.25]\n",
       "Σ: [0.04 0.0; 0.0 0.49]\n",
       ")\n",
       ", 0.5, (-2.0, 2.0), (-2.0, 2.0), 1.1368200595184386, 2.1355457897855272e-30, [0.25025, 0.25025])"
      ]
     },
     "execution_count": 2,
     "metadata": {},
     "output_type": "execute_result"
    }
   ],
   "source": [
    "G = WideBump2D()"
   ]
  },
  {
   "cell_type": "code",
   "execution_count": 3,
   "metadata": {},
   "outputs": [
    {
     "data": {
      "text/plain": [
       "CBandits.UniformActions2D((-2.0, 2.0), (-2.0, 2.0), Distributions.Uniform{Float64}[Distributions.Uniform{Float64}(a=-2.0, b=2.0), Distributions.Uniform{Float64}(a=-2.0, b=2.0)])"
      ]
     },
     "execution_count": 3,
     "metadata": {},
     "output_type": "execute_result"
    }
   ],
   "source": [
    "A = UniformActions2D()"
   ]
  },
  {
   "cell_type": "raw",
   "metadata": {},
   "source": [
    "b = RandomBandit(; actiondistr=A, outs=Set([:plot]))\n",
    "rd_result = POMDPs.solve(b, G)"
   ]
  },
  {
   "cell_type": "raw",
   "metadata": {},
   "source": [
    "animate(rd_result, \"./uniform_random.gif\")"
   ]
  },
  {
   "cell_type": "raw",
   "metadata": {},
   "source": [
    "b = PWUCB(; actiondistr=A, outs=Set([:plot]))\n",
    "pw_result = POMDPs.solve(b, G)"
   ]
  },
  {
   "cell_type": "raw",
   "metadata": {},
   "source": [
    "animate(pw_result, \"./uniform_pw.gif\")"
   ]
  },
  {
   "cell_type": "raw",
   "metadata": {},
   "source": [
    "b = SBUCB(; actiondistr=A, outs=Set([:plot]))\n",
    "sb_result = POMDPs.solve(b, G)"
   ]
  },
  {
   "cell_type": "raw",
   "metadata": {},
   "source": [
    "animate(sb_result, \"./uniform_sb.gif\")"
   ]
  },
  {
   "cell_type": "raw",
   "metadata": {},
   "source": [
    "b = GPUCBGrid(; actiondistr=UniformActions2D(), grid=GridActions2D(), n_iters=200, log_length_scale=-1.0, outs=Set([:plot]))\n",
    "gd_result = POMDPs.solve(b, WideBump2D())"
   ]
  },
  {
   "cell_type": "raw",
   "metadata": {},
   "source": [
    "animate(gd_result, \"./uniform_gd_widebump2d.gif\")"
   ]
  },
  {
   "cell_type": "raw",
   "metadata": {},
   "source": [
    "b = GPUCBGrid(; actiondistr=UniformActions2D(), grid=GridActions2D(), n_iters=200, log_length_scale=-1.0, outs=Set([:plot]))\n",
    "gd_result = POMDPs.solve(b, NarrowBump2D())"
   ]
  },
  {
   "cell_type": "raw",
   "metadata": {},
   "source": [
    "animate(gd_result, \"./uniform_gd_narrowbump2d.gif\")"
   ]
  },
  {
   "cell_type": "code",
   "execution_count": 4,
   "metadata": {},
   "outputs": [
    {
     "data": {
      "text/plain": [
       "CBandits.GPUCBResult(Any[[1.29459, 1.64143], [-1.29068, -0.88448], [-1.82744, -0.928061], [-0.75142, -1.21437], [-1.72711, -0.0802075], [-1.73863, 0.799959], [1.62067, -0.259432], [-0.298181, 0.192638], [-1.25153, 0.076355], [-0.737118, 0.668374]  …  [0.307531, 0.571881], [1.51095, 1.95441], [1.04922, 0.844998], [0.307531, 0.571881], [0.307531, 0.571881], [0.307531, 0.571881], [0.307531, 0.571881], [1.57408, -1.17828], [0.307531, 0.571881], [0.307531, 0.571881]], [-0.176504, 0.571138, -0.0893944, -0.685965, 0.761427, -0.584489, 0.0316984, 0.100281, 0.318271, -0.484939  …  1.45408, -0.93953, -0.471621, 0.534706, 1.43155, 1.86575, 0.70527, -0.047899, 1.53769, 0.828653], [1, 1, 1, 1, 1, 1, 1, 1, 1, 1  …  1, 1, 1, 1, 1, 1, 1, 1, 1, 1], Float64[], Plots.Plot[Plot{Plots.GRBackend() n=3}, Plot{Plots.GRBackend() n=3}, Plot{Plots.GRBackend() n=3}, Plot{Plots.GRBackend() n=3}, Plot{Plots.GRBackend() n=3}, Plot{Plots.GRBackend() n=3}, Plot{Plots.GRBackend() n=3}, Plot{Plots.GRBackend() n=3}, Plot{Plots.GRBackend() n=3}, Plot{Plots.GRBackend() n=3}  …  Plot{Plots.GRBackend() n=3}, Plot{Plots.GRBackend() n=3}, Plot{Plots.GRBackend() n=3}, Plot{Plots.GRBackend() n=3}, Plot{Plots.GRBackend() n=3}, Plot{Plots.GRBackend() n=3}, Plot{Plots.GRBackend() n=3}, Plot{Plots.GRBackend() n=3}, Plot{Plots.GRBackend() n=3}, Plot{Plots.GRBackend() n=3}], Float64[])"
      ]
     },
     "execution_count": 4,
     "metadata": {},
     "output_type": "execute_result"
    }
   ],
   "source": [
    "b = GPUCB(; actiondistr=UniformActions2D(), grid=GridActions2D(), n_iters=200, log_length_scale=-1.2, outs=Set([:plot]))\n",
    "gp_result = POMDPs.solve(b, WideBump2D())"
   ]
  },
  {
   "cell_type": "code",
   "execution_count": 5,
   "metadata": {},
   "outputs": [
    {
     "data": {
      "text/plain": [
       "CBandits.GPUCBResult(Any[[1.29459, 1.64143], [-1.29068, -0.88448], [-1.82744, -0.928061], [-0.75142, -1.21437], [-1.72711, -0.0802075], [-1.73863, 0.799959], [1.62067, -0.259432], [-0.298181, 0.192638], [-1.25153, 0.076355], [-0.737118, 0.668374]  …  [0.307531, 0.571881], [1.51095, 1.95441], [1.04922, 0.844998], [0.307531, 0.571881], [0.307531, 0.571881], [0.307531, 0.571881], [0.307531, 0.571881], [1.57408, -1.17828], [0.307531, 0.571881], [0.307531, 0.571881]], [-0.176504, 0.571138, -0.0893944, -0.685965, 0.761427, -0.584489, 0.0316984, 0.100281, 0.318271, -0.484939  …  1.45408, -0.93953, -0.471621, 0.534706, 1.43155, 1.86575, 0.70527, -0.047899, 1.53769, 0.828653], [1, 1, 1, 1, 1, 1, 1, 1, 1, 1  …  1, 1, 1, 1, 1, 1, 1, 1, 1, 1], Float64[], Plots.Plot[Plot{Plots.GRBackend() n=3}, Plot{Plots.GRBackend() n=3}, Plot{Plots.GRBackend() n=3}, Plot{Plots.GRBackend() n=3}, Plot{Plots.GRBackend() n=3}, Plot{Plots.GRBackend() n=3}, Plot{Plots.GRBackend() n=3}, Plot{Plots.GRBackend() n=3}, Plot{Plots.GRBackend() n=3}, Plot{Plots.GRBackend() n=3}  …  Plot{Plots.GRBackend() n=3}, Plot{Plots.GRBackend() n=3}, Plot{Plots.GRBackend() n=3}, Plot{Plots.GRBackend() n=3}, Plot{Plots.GRBackend() n=3}, Plot{Plots.GRBackend() n=3}, Plot{Plots.GRBackend() n=3}, Plot{Plots.GRBackend() n=3}, Plot{Plots.GRBackend() n=3}, Plot{Plots.GRBackend() n=3}], Float64[])"
      ]
     },
     "execution_count": 5,
     "metadata": {},
     "output_type": "execute_result"
    }
   ],
   "source": [
    "gp_result=gd_result"
   ]
  },
  {
   "cell_type": "code",
   "execution_count": 6,
   "metadata": {},
   "outputs": [
    {
     "name": "stderr",
     "output_type": "stream",
     "text": [
      "\u001b[1m\u001b[36mINFO: \u001b[39m\u001b[22m\u001b[36mSaved animation to /Users/rlee18/.julia/v0.6/CBandits/notebooks/uniform_gp_widebump2d.gif\n",
      "\u001b[39m"
     ]
    },
    {
     "data": {
      "text/html": [
       "<img src=\"uniform_gp_widebump2d.gif?0.44706908082311414>\" />"
      ],
      "text/plain": [
       "Plots.AnimatedGif(\"/Users/rlee18/.julia/v0.6/CBandits/notebooks/uniform_gp_widebump2d.gif\")"
      ]
     },
     "execution_count": 6,
     "metadata": {},
     "output_type": "execute_result"
    }
   ],
   "source": [
    "animate(gp_result, \"./uniform_gp_widebump2d.gif\")"
   ]
  },
  {
   "cell_type": "code",
   "execution_count": null,
   "metadata": {},
   "outputs": [],
   "source": []
  }
 ],
 "metadata": {
  "kernelspec": {
   "display_name": "Julia 0.6.2",
   "language": "julia",
   "name": "julia-0.6"
  },
  "language_info": {
   "file_extension": ".jl",
   "mimetype": "application/julia",
   "name": "julia",
   "version": "0.6.2"
  }
 },
 "nbformat": 4,
 "nbformat_minor": 2
}
