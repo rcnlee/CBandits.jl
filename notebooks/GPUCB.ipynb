{
 "cells": [
  {
   "cell_type": "code",
   "execution_count": 1,
   "metadata": {},
   "outputs": [
    {
     "name": "stderr",
     "output_type": "stream",
     "text": [
      "WARNING: using Plots.PyPlot in module Main conflicts with an existing identifier.\n"
     ]
    },
    {
     "data": {
      "text/plain": [
       "Plots.PyPlotBackend()"
      ]
     },
     "execution_count": 1,
     "metadata": {},
     "output_type": "execute_result"
    }
   ],
   "source": [
    "using CBandits\n",
    "using POMDPs\n",
    "using DataFrames\n",
    "using Plots; pyplot()"
   ]
  },
  {
   "cell_type": "code",
   "execution_count": 2,
   "metadata": {},
   "outputs": [],
   "source": [
    "## Grid\n",
    "### Uniform"
   ]
  },
  {
   "cell_type": "code",
   "execution_count": 3,
   "metadata": {},
   "outputs": [
    {
     "name": "stderr",
     "output_type": "stream",
     "text": [
      "\u001b[1m\u001b[36mINFO: \u001b[39m\u001b[22m\u001b[36mSaved animation to /Users/rlee18/.julia/v0.6/CBandits/notebooks/gptest.gif\n",
      "\u001b[39m"
     ]
    },
    {
     "data": {
      "text/html": [
       "<img src=\"gptest.gif?0.8760346482328256>\" />"
      ],
      "text/plain": [
       "Plots.AnimatedGif(\"/Users/rlee18/.julia/v0.6/CBandits/notebooks/gptest.gif\")"
      ]
     },
     "execution_count": 3,
     "metadata": {},
     "output_type": "execute_result"
    }
   ],
   "source": [
    "b = GPUCBGrid(; actiondistr=UniformActions(), outs=Set([:plot]))\n",
    "gp_result = POMDPs.solve(b, WideBump())\n",
    "animate(gp_result, \"./gptest.gif\")"
   ]
  },
  {
   "cell_type": "code",
   "execution_count": 4,
   "metadata": {},
   "outputs": [
    {
     "name": "stderr",
     "output_type": "stream",
     "text": [
      "\u001b[1m\u001b[36mINFO: \u001b[39m\u001b[22m\u001b[36mSaved animation to /Users/rlee18/.julia/v0.6/CBandits/notebooks/gptest.gif\n",
      "\u001b[39m"
     ]
    },
    {
     "data": {
      "text/html": [
       "<img src=\"gptest.gif?0.7283448136031572>\" />"
      ],
      "text/plain": [
       "Plots.AnimatedGif(\"/Users/rlee18/.julia/v0.6/CBandits/notebooks/gptest.gif\")"
      ]
     },
     "execution_count": 4,
     "metadata": {},
     "output_type": "execute_result"
    }
   ],
   "source": [
    "b = GPUCBGrid(; actiondistr=UniformActions(), outs=Set([:plot]))\n",
    "gp_result = POMDPs.solve(b, NarrowBump())\n",
    "animate(gp_result, \"./gptest.gif\")"
   ]
  },
  {
   "cell_type": "code",
   "execution_count": 5,
   "metadata": {},
   "outputs": [
    {
     "name": "stderr",
     "output_type": "stream",
     "text": [
      "\u001b[1m\u001b[36mINFO: \u001b[39m\u001b[22m\u001b[36mSaved animation to /Users/rlee18/.julia/v0.6/CBandits/notebooks/gptest.gif\n",
      "\u001b[39m"
     ]
    },
    {
     "data": {
      "text/html": [
       "<img src=\"gptest.gif?0.23816741678779407>\" />"
      ],
      "text/plain": [
       "Plots.AnimatedGif(\"/Users/rlee18/.julia/v0.6/CBandits/notebooks/gptest.gif\")"
      ]
     },
     "execution_count": 5,
     "metadata": {},
     "output_type": "execute_result"
    }
   ],
   "source": [
    "b = GPUCBGrid(; actiondistr=UniformActions(), outs=Set([:plot]))\n",
    "gp_result = POMDPs.solve(b, TwoBumps())\n",
    "animate(gp_result, \"./gptest.gif\")"
   ]
  },
  {
   "cell_type": "code",
   "execution_count": 6,
   "metadata": {},
   "outputs": [
    {
     "name": "stderr",
     "output_type": "stream",
     "text": [
      "\u001b[1m\u001b[36mINFO: \u001b[39m\u001b[22m\u001b[36mSaved animation to /Users/rlee18/.julia/v0.6/CBandits/notebooks/gptest.gif\n",
      "\u001b[39m"
     ]
    },
    {
     "data": {
      "text/html": [
       "<img src=\"gptest.gif?0.2944506754533578>\" />"
      ],
      "text/plain": [
       "Plots.AnimatedGif(\"/Users/rlee18/.julia/v0.6/CBandits/notebooks/gptest.gif\")"
      ]
     },
     "execution_count": 6,
     "metadata": {},
     "output_type": "execute_result"
    }
   ],
   "source": [
    "b = GPUCBGrid(; actiondistr=UniformActions(), outs=Set([:plot]))\n",
    "gp_result = POMDPs.solve(b, ThreeBumps())\n",
    "animate(gp_result, \"./gptest.gif\")"
   ]
  },
  {
   "cell_type": "code",
   "execution_count": 7,
   "metadata": {},
   "outputs": [
    {
     "name": "stderr",
     "output_type": "stream",
     "text": [
      "\u001b[1m\u001b[36mINFO: \u001b[39m\u001b[22m\u001b[36mSaved animation to /Users/rlee18/.julia/v0.6/CBandits/notebooks/gptest.gif\n",
      "\u001b[39m"
     ]
    },
    {
     "data": {
      "text/html": [
       "<img src=\"gptest.gif?0.3614843353698243>\" />"
      ],
      "text/plain": [
       "Plots.AnimatedGif(\"/Users/rlee18/.julia/v0.6/CBandits/notebooks/gptest.gif\")"
      ]
     },
     "execution_count": 7,
     "metadata": {},
     "output_type": "execute_result"
    }
   ],
   "source": [
    "b = GPUCBGrid(; actiondistr=UniformActions(), outs=Set([:plot]))\n",
    "gp_result = POMDPs.solve(b, Sinc())\n",
    "animate(gp_result, \"./gptest.gif\")"
   ]
  },
  {
   "cell_type": "code",
   "execution_count": 8,
   "metadata": {},
   "outputs": [],
   "source": [
    "## Grid\n",
    "### Gaussian"
   ]
  },
  {
   "cell_type": "code",
   "execution_count": 9,
   "metadata": {},
   "outputs": [
    {
     "name": "stderr",
     "output_type": "stream",
     "text": [
      "\u001b[1m\u001b[36mINFO: \u001b[39m\u001b[22m\u001b[36mSaved animation to /Users/rlee18/.julia/v0.6/CBandits/notebooks/gptest.gif\n",
      "\u001b[39m"
     ]
    },
    {
     "data": {
      "text/html": [
       "<img src=\"gptest.gif?0.9039185884848604>\" />"
      ],
      "text/plain": [
       "Plots.AnimatedGif(\"/Users/rlee18/.julia/v0.6/CBandits/notebooks/gptest.gif\")"
      ]
     },
     "execution_count": 9,
     "metadata": {},
     "output_type": "execute_result"
    }
   ],
   "source": [
    "b = GPUCBGrid(; actiondistr=GaussianActions(), outs=Set([:plot]))\n",
    "gp_result = POMDPs.solve(b, WideBump())\n",
    "animate(gp_result, \"./gptest.gif\")"
   ]
  },
  {
   "cell_type": "code",
   "execution_count": 10,
   "metadata": {},
   "outputs": [
    {
     "name": "stderr",
     "output_type": "stream",
     "text": [
      "\u001b[1m\u001b[36mINFO: \u001b[39m\u001b[22m\u001b[36mSaved animation to /Users/rlee18/.julia/v0.6/CBandits/notebooks/gptest.gif\n",
      "\u001b[39m"
     ]
    },
    {
     "data": {
      "text/html": [
       "<img src=\"gptest.gif?0.626338291026755>\" />"
      ],
      "text/plain": [
       "Plots.AnimatedGif(\"/Users/rlee18/.julia/v0.6/CBandits/notebooks/gptest.gif\")"
      ]
     },
     "execution_count": 10,
     "metadata": {},
     "output_type": "execute_result"
    }
   ],
   "source": [
    "b = GPUCBGrid(; actiondistr=GaussianActions(), outs=Set([:plot]))\n",
    "gp_result = POMDPs.solve(b, NarrowBump())\n",
    "animate(gp_result, \"./gptest.gif\")"
   ]
  },
  {
   "cell_type": "code",
   "execution_count": 11,
   "metadata": {},
   "outputs": [
    {
     "name": "stderr",
     "output_type": "stream",
     "text": [
      "\u001b[1m\u001b[36mINFO: \u001b[39m\u001b[22m\u001b[36mSaved animation to /Users/rlee18/.julia/v0.6/CBandits/notebooks/gptest.gif\n",
      "\u001b[39m"
     ]
    },
    {
     "data": {
      "text/html": [
       "<img src=\"gptest.gif?0.12982267228851474>\" />"
      ],
      "text/plain": [
       "Plots.AnimatedGif(\"/Users/rlee18/.julia/v0.6/CBandits/notebooks/gptest.gif\")"
      ]
     },
     "execution_count": 11,
     "metadata": {},
     "output_type": "execute_result"
    }
   ],
   "source": [
    "b = GPUCBGrid(; actiondistr=GaussianActions(), outs=Set([:plot]))\n",
    "gp_result = POMDPs.solve(b, TwoBumps())\n",
    "animate(gp_result, \"./gptest.gif\")"
   ]
  },
  {
   "cell_type": "code",
   "execution_count": 12,
   "metadata": {},
   "outputs": [
    {
     "name": "stderr",
     "output_type": "stream",
     "text": [
      "\u001b[1m\u001b[36mINFO: \u001b[39m\u001b[22m\u001b[36mSaved animation to /Users/rlee18/.julia/v0.6/CBandits/notebooks/gptest.gif\n",
      "\u001b[39m"
     ]
    },
    {
     "data": {
      "text/html": [
       "<img src=\"gptest.gif?0.1605999567904799>\" />"
      ],
      "text/plain": [
       "Plots.AnimatedGif(\"/Users/rlee18/.julia/v0.6/CBandits/notebooks/gptest.gif\")"
      ]
     },
     "execution_count": 12,
     "metadata": {},
     "output_type": "execute_result"
    }
   ],
   "source": [
    "b = GPUCBGrid(; actiondistr=GaussianActions(), outs=Set([:plot]))\n",
    "gp_result = POMDPs.solve(b, ThreeBumps())\n",
    "animate(gp_result, \"./gptest.gif\")"
   ]
  },
  {
   "cell_type": "code",
   "execution_count": 13,
   "metadata": {},
   "outputs": [
    {
     "name": "stderr",
     "output_type": "stream",
     "text": [
      "\u001b[1m\u001b[36mINFO: \u001b[39m\u001b[22m\u001b[36mSaved animation to /Users/rlee18/.julia/v0.6/CBandits/notebooks/gptest.gif\n",
      "\u001b[39m"
     ]
    },
    {
     "data": {
      "text/html": [
       "<img src=\"gptest.gif?0.18424291138464843>\" />"
      ],
      "text/plain": [
       "Plots.AnimatedGif(\"/Users/rlee18/.julia/v0.6/CBandits/notebooks/gptest.gif\")"
      ]
     },
     "execution_count": 13,
     "metadata": {},
     "output_type": "execute_result"
    }
   ],
   "source": [
    "b = GPUCBGrid(; actiondistr=GaussianActions(), outs=Set([:plot]))\n",
    "gp_result = POMDPs.solve(b, Sinc())\n",
    "animate(gp_result, \"./gptest.gif\")"
   ]
  },
  {
   "cell_type": "code",
   "execution_count": 14,
   "metadata": {},
   "outputs": [],
   "source": [
    "## k=100\n",
    "### Uniform"
   ]
  },
  {
   "cell_type": "code",
   "execution_count": 15,
   "metadata": {},
   "outputs": [
    {
     "name": "stderr",
     "output_type": "stream",
     "text": [
      "\u001b[1m\u001b[36mINFO: \u001b[39m\u001b[22m\u001b[36mSaved animation to /Users/rlee18/.julia/v0.6/CBandits/notebooks/gpucb_uniform_widebump.gif\n",
      "\u001b[39m"
     ]
    },
    {
     "data": {
      "text/html": [
       "<img src=\"gpucb_uniform_widebump.gif?0.13672493272840835>\" />"
      ],
      "text/plain": [
       "Plots.AnimatedGif(\"/Users/rlee18/.julia/v0.6/CBandits/notebooks/gpucb_uniform_widebump.gif\")"
      ]
     },
     "execution_count": 15,
     "metadata": {},
     "output_type": "execute_result"
    }
   ],
   "source": [
    "b = GPUCB(; actiondistr=UniformActions(), outs=Set([:plot]))\n",
    "gp_result = POMDPs.solve(b, WideBump())\n",
    "animate(gp_result, \"./gpucb_uniform_widebump.gif\")"
   ]
  },
  {
   "cell_type": "code",
   "execution_count": 16,
   "metadata": {},
   "outputs": [
    {
     "name": "stderr",
     "output_type": "stream",
     "text": [
      "\u001b[1m\u001b[36mINFO: \u001b[39m\u001b[22m\u001b[36mSaved animation to /Users/rlee18/.julia/v0.6/CBandits/notebooks/gpucb_uniform_narrowbump.gif\n",
      "\u001b[39m"
     ]
    },
    {
     "data": {
      "text/html": [
       "<img src=\"gpucb_uniform_narrowbump.gif?0.23618523219721066>\" />"
      ],
      "text/plain": [
       "Plots.AnimatedGif(\"/Users/rlee18/.julia/v0.6/CBandits/notebooks/gpucb_uniform_narrowbump.gif\")"
      ]
     },
     "execution_count": 16,
     "metadata": {},
     "output_type": "execute_result"
    }
   ],
   "source": [
    "b = GPUCB(; actiondistr=UniformActions(), outs=Set([:plot]))\n",
    "gp_result = POMDPs.solve(b, NarrowBump())\n",
    "animate(gp_result, \"./gpucb_uniform_narrowbump.gif\")"
   ]
  },
  {
   "cell_type": "code",
   "execution_count": 17,
   "metadata": {},
   "outputs": [
    {
     "name": "stderr",
     "output_type": "stream",
     "text": [
      "\u001b[1m\u001b[36mINFO: \u001b[39m\u001b[22m\u001b[36mSaved animation to /Users/rlee18/.julia/v0.6/CBandits/notebooks/gpucb_uniform_twobumps.gif\n",
      "\u001b[39m"
     ]
    },
    {
     "data": {
      "text/html": [
       "<img src=\"gpucb_uniform_twobumps.gif?0.1321432166262302>\" />"
      ],
      "text/plain": [
       "Plots.AnimatedGif(\"/Users/rlee18/.julia/v0.6/CBandits/notebooks/gpucb_uniform_twobumps.gif\")"
      ]
     },
     "execution_count": 17,
     "metadata": {},
     "output_type": "execute_result"
    }
   ],
   "source": [
    "b = GPUCB(; actiondistr=UniformActions(), outs=Set([:plot]))\n",
    "gp_result = POMDPs.solve(b, TwoBumps())\n",
    "animate(gp_result, \"./gpucb_uniform_twobumps.gif\")"
   ]
  },
  {
   "cell_type": "code",
   "execution_count": 18,
   "metadata": {},
   "outputs": [
    {
     "name": "stderr",
     "output_type": "stream",
     "text": [
      "\u001b[1m\u001b[36mINFO: \u001b[39m\u001b[22m\u001b[36mSaved animation to /Users/rlee18/.julia/v0.6/CBandits/notebooks/gpucb_uniform_threebumps.gif\n",
      "\u001b[39m"
     ]
    },
    {
     "data": {
      "text/html": [
       "<img src=\"gpucb_uniform_threebumps.gif?0.3412312686914647>\" />"
      ],
      "text/plain": [
       "Plots.AnimatedGif(\"/Users/rlee18/.julia/v0.6/CBandits/notebooks/gpucb_uniform_threebumps.gif\")"
      ]
     },
     "execution_count": 18,
     "metadata": {},
     "output_type": "execute_result"
    }
   ],
   "source": [
    "b = GPUCB(; actiondistr=UniformActions(), outs=Set([:plot]))\n",
    "gp_result = POMDPs.solve(b, ThreeBumps())\n",
    "animate(gp_result, \"./gpucb_uniform_threebumps.gif\")"
   ]
  },
  {
   "cell_type": "code",
   "execution_count": 19,
   "metadata": {},
   "outputs": [
    {
     "name": "stderr",
     "output_type": "stream",
     "text": [
      "\u001b[1m\u001b[36mINFO: \u001b[39m\u001b[22m\u001b[36mSaved animation to /Users/rlee18/.julia/v0.6/CBandits/notebooks/gpucb_uniform_sinc.gif\n",
      "\u001b[39m"
     ]
    },
    {
     "data": {
      "text/html": [
       "<img src=\"gpucb_uniform_sinc.gif?0.3374697410924832>\" />"
      ],
      "text/plain": [
       "Plots.AnimatedGif(\"/Users/rlee18/.julia/v0.6/CBandits/notebooks/gpucb_uniform_sinc.gif\")"
      ]
     },
     "execution_count": 19,
     "metadata": {},
     "output_type": "execute_result"
    }
   ],
   "source": [
    "b = GPUCB(; actiondistr=UniformActions(), outs=Set([:plot]))\n",
    "gp_result = POMDPs.solve(b, Sinc())\n",
    "animate(gp_result, \"./gpucb_uniform_sinc.gif\")"
   ]
  },
  {
   "cell_type": "code",
   "execution_count": null,
   "metadata": {},
   "outputs": [],
   "source": []
  },
  {
   "cell_type": "code",
   "execution_count": 20,
   "metadata": {},
   "outputs": [],
   "source": [
    "## k=100\n",
    "### Gaussian"
   ]
  },
  {
   "cell_type": "code",
   "execution_count": 21,
   "metadata": {},
   "outputs": [
    {
     "name": "stderr",
     "output_type": "stream",
     "text": [
      "\u001b[1m\u001b[36mINFO: \u001b[39m\u001b[22m\u001b[36mSaved animation to /Users/rlee18/.julia/v0.6/CBandits/notebooks/gptest.gif\n",
      "\u001b[39m"
     ]
    },
    {
     "data": {
      "text/html": [
       "<img src=\"gptest.gif?0.7719530481204397>\" />"
      ],
      "text/plain": [
       "Plots.AnimatedGif(\"/Users/rlee18/.julia/v0.6/CBandits/notebooks/gptest.gif\")"
      ]
     },
     "execution_count": 21,
     "metadata": {},
     "output_type": "execute_result"
    }
   ],
   "source": [
    "b = GPUCB(; actiondistr=GaussianActions(), outs=Set([:plot]))\n",
    "gp_result = POMDPs.solve(b, WideBump())\n",
    "animate(gp_result, \"./gptest.gif\")"
   ]
  },
  {
   "cell_type": "code",
   "execution_count": 22,
   "metadata": {},
   "outputs": [
    {
     "name": "stderr",
     "output_type": "stream",
     "text": [
      "\u001b[1m\u001b[36mINFO: \u001b[39m\u001b[22m\u001b[36mSaved animation to /Users/rlee18/.julia/v0.6/CBandits/notebooks/gptest.gif\n",
      "\u001b[39m"
     ]
    },
    {
     "data": {
      "text/html": [
       "<img src=\"gptest.gif?0.03939803395241914>\" />"
      ],
      "text/plain": [
       "Plots.AnimatedGif(\"/Users/rlee18/.julia/v0.6/CBandits/notebooks/gptest.gif\")"
      ]
     },
     "execution_count": 22,
     "metadata": {},
     "output_type": "execute_result"
    }
   ],
   "source": [
    "b = GPUCB(; actiondistr=GaussianActions(), outs=Set([:plot]))\n",
    "gp_result = POMDPs.solve(b, NarrowBump())\n",
    "animate(gp_result, \"./gptest.gif\")"
   ]
  },
  {
   "cell_type": "code",
   "execution_count": 23,
   "metadata": {},
   "outputs": [
    {
     "name": "stderr",
     "output_type": "stream",
     "text": [
      "\u001b[1m\u001b[36mINFO: \u001b[39m\u001b[22m\u001b[36mSaved animation to /Users/rlee18/.julia/v0.6/CBandits/notebooks/gptest.gif\n",
      "\u001b[39m"
     ]
    },
    {
     "data": {
      "text/html": [
       "<img src=\"gptest.gif?0.12635215765897878>\" />"
      ],
      "text/plain": [
       "Plots.AnimatedGif(\"/Users/rlee18/.julia/v0.6/CBandits/notebooks/gptest.gif\")"
      ]
     },
     "execution_count": 23,
     "metadata": {},
     "output_type": "execute_result"
    }
   ],
   "source": [
    "b = GPUCB(; actiondistr=GaussianActions(), outs=Set([:plot]))\n",
    "gp_result = POMDPs.solve(b, TwoBumps())\n",
    "animate(gp_result, \"./gptest.gif\")"
   ]
  },
  {
   "cell_type": "code",
   "execution_count": 24,
   "metadata": {},
   "outputs": [
    {
     "name": "stderr",
     "output_type": "stream",
     "text": [
      "\u001b[1m\u001b[36mINFO: \u001b[39m\u001b[22m\u001b[36mSaved animation to /Users/rlee18/.julia/v0.6/CBandits/notebooks/gptest.gif\n",
      "\u001b[39m"
     ]
    },
    {
     "data": {
      "text/html": [
       "<img src=\"gptest.gif?0.8452890473260113>\" />"
      ],
      "text/plain": [
       "Plots.AnimatedGif(\"/Users/rlee18/.julia/v0.6/CBandits/notebooks/gptest.gif\")"
      ]
     },
     "execution_count": 24,
     "metadata": {},
     "output_type": "execute_result"
    }
   ],
   "source": [
    "b = GPUCB(; actiondistr=GaussianActions(), outs=Set([:plot]))\n",
    "gp_result = POMDPs.solve(b, ThreeBumps())\n",
    "animate(gp_result, \"./gptest.gif\")"
   ]
  },
  {
   "cell_type": "code",
   "execution_count": 25,
   "metadata": {
    "scrolled": true
   },
   "outputs": [
    {
     "name": "stderr",
     "output_type": "stream",
     "text": [
      "\u001b[1m\u001b[36mINFO: \u001b[39m\u001b[22m\u001b[36mSaved animation to /Users/rlee18/.julia/v0.6/CBandits/notebooks/gptest.gif\n",
      "\u001b[39m"
     ]
    },
    {
     "data": {
      "text/html": [
       "<img src=\"gptest.gif?0.3865610154604622>\" />"
      ],
      "text/plain": [
       "Plots.AnimatedGif(\"/Users/rlee18/.julia/v0.6/CBandits/notebooks/gptest.gif\")"
      ]
     },
     "execution_count": 25,
     "metadata": {},
     "output_type": "execute_result"
    }
   ],
   "source": [
    "b = GPUCB(; actiondistr=GaussianActions(), outs=Set([:plot]))\n",
    "gp_result = POMDPs.solve(b, Sinc())\n",
    "animate(gp_result, \"./gptest.gif\")"
   ]
  },
  {
   "cell_type": "code",
   "execution_count": 26,
   "metadata": {},
   "outputs": [],
   "source": [
    "## k=1\n",
    "### Uniform"
   ]
  },
  {
   "cell_type": "code",
   "execution_count": 27,
   "metadata": {},
   "outputs": [
    {
     "name": "stderr",
     "output_type": "stream",
     "text": [
      "\u001b[1m\u001b[36mINFO: \u001b[39m\u001b[22m\u001b[36mSaved animation to /Users/rlee18/.julia/v0.6/CBandits/notebooks/gptest.gif\n",
      "\u001b[39m"
     ]
    },
    {
     "data": {
      "text/html": [
       "<img src=\"gptest.gif?0.19454989102198117>\" />"
      ],
      "text/plain": [
       "Plots.AnimatedGif(\"/Users/rlee18/.julia/v0.6/CBandits/notebooks/gptest.gif\")"
      ]
     },
     "execution_count": 27,
     "metadata": {},
     "output_type": "execute_result"
    }
   ],
   "source": [
    "b = GPUCB(; k=1, actiondistr=UniformActions(), outs=Set([:plot]))\n",
    "gp_result = POMDPs.solve(b, WideBump())\n",
    "animate(gp_result, \"./gptest.gif\")"
   ]
  },
  {
   "cell_type": "code",
   "execution_count": 28,
   "metadata": {},
   "outputs": [
    {
     "name": "stderr",
     "output_type": "stream",
     "text": [
      "\u001b[1m\u001b[36mINFO: \u001b[39m\u001b[22m\u001b[36mSaved animation to /Users/rlee18/.julia/v0.6/CBandits/notebooks/gptest.gif\n",
      "\u001b[39m"
     ]
    },
    {
     "data": {
      "text/html": [
       "<img src=\"gptest.gif?0.32096823395195107>\" />"
      ],
      "text/plain": [
       "Plots.AnimatedGif(\"/Users/rlee18/.julia/v0.6/CBandits/notebooks/gptest.gif\")"
      ]
     },
     "execution_count": 28,
     "metadata": {},
     "output_type": "execute_result"
    }
   ],
   "source": [
    "b = GPUCB(; k=1, actiondistr=UniformActions(), outs=Set([:plot]))\n",
    "gp_result = POMDPs.solve(b, NarrowBump())\n",
    "animate(gp_result, \"./gptest.gif\")"
   ]
  },
  {
   "cell_type": "code",
   "execution_count": 29,
   "metadata": {},
   "outputs": [
    {
     "name": "stderr",
     "output_type": "stream",
     "text": [
      "\u001b[1m\u001b[36mINFO: \u001b[39m\u001b[22m\u001b[36mSaved animation to /Users/rlee18/.julia/v0.6/CBandits/notebooks/gptest.gif\n",
      "\u001b[39m"
     ]
    },
    {
     "data": {
      "text/html": [
       "<img src=\"gptest.gif?0.6590910240170145>\" />"
      ],
      "text/plain": [
       "Plots.AnimatedGif(\"/Users/rlee18/.julia/v0.6/CBandits/notebooks/gptest.gif\")"
      ]
     },
     "execution_count": 29,
     "metadata": {},
     "output_type": "execute_result"
    }
   ],
   "source": [
    "b = GPUCB(; k=1, actiondistr=UniformActions(), outs=Set([:plot]))\n",
    "gp_result = POMDPs.solve(b, TwoBumps())\n",
    "animate(gp_result, \"./gptest.gif\")"
   ]
  },
  {
   "cell_type": "code",
   "execution_count": 30,
   "metadata": {},
   "outputs": [
    {
     "name": "stderr",
     "output_type": "stream",
     "text": [
      "\u001b[1m\u001b[36mINFO: \u001b[39m\u001b[22m\u001b[36mSaved animation to /Users/rlee18/.julia/v0.6/CBandits/notebooks/gptest.gif\n",
      "\u001b[39m"
     ]
    },
    {
     "data": {
      "text/html": [
       "<img src=\"gptest.gif?0.654460828239358>\" />"
      ],
      "text/plain": [
       "Plots.AnimatedGif(\"/Users/rlee18/.julia/v0.6/CBandits/notebooks/gptest.gif\")"
      ]
     },
     "execution_count": 30,
     "metadata": {},
     "output_type": "execute_result"
    }
   ],
   "source": [
    "b = GPUCB(; k=1, actiondistr=UniformActions(), outs=Set([:plot]))\n",
    "gp_result = POMDPs.solve(b, ThreeBumps())\n",
    "animate(gp_result, \"./gptest.gif\")"
   ]
  },
  {
   "cell_type": "code",
   "execution_count": 31,
   "metadata": {},
   "outputs": [
    {
     "name": "stderr",
     "output_type": "stream",
     "text": [
      "\u001b[1m\u001b[36mINFO: \u001b[39m\u001b[22m\u001b[36mSaved animation to /Users/rlee18/.julia/v0.6/CBandits/notebooks/gptest.gif\n",
      "\u001b[39m"
     ]
    },
    {
     "data": {
      "text/html": [
       "<img src=\"gptest.gif?0.5524364797711836>\" />"
      ],
      "text/plain": [
       "Plots.AnimatedGif(\"/Users/rlee18/.julia/v0.6/CBandits/notebooks/gptest.gif\")"
      ]
     },
     "execution_count": 31,
     "metadata": {},
     "output_type": "execute_result"
    }
   ],
   "source": [
    "b = GPUCB(; k=1, actiondistr=UniformActions(), outs=Set([:plot]))\n",
    "gp_result = POMDPs.solve(b, Sinc())\n",
    "animate(gp_result, \"./gptest.gif\")"
   ]
  },
  {
   "cell_type": "code",
   "execution_count": null,
   "metadata": {},
   "outputs": [],
   "source": []
  },
  {
   "cell_type": "code",
   "execution_count": 32,
   "metadata": {},
   "outputs": [],
   "source": [
    "## k=1\n",
    "### Gaussian"
   ]
  },
  {
   "cell_type": "code",
   "execution_count": 33,
   "metadata": {},
   "outputs": [
    {
     "name": "stderr",
     "output_type": "stream",
     "text": [
      "\u001b[1m\u001b[36mINFO: \u001b[39m\u001b[22m\u001b[36mSaved animation to /Users/rlee18/.julia/v0.6/CBandits/notebooks/gptest.gif\n",
      "\u001b[39m"
     ]
    },
    {
     "data": {
      "text/html": [
       "<img src=\"gptest.gif?0.7672500775275983>\" />"
      ],
      "text/plain": [
       "Plots.AnimatedGif(\"/Users/rlee18/.julia/v0.6/CBandits/notebooks/gptest.gif\")"
      ]
     },
     "execution_count": 33,
     "metadata": {},
     "output_type": "execute_result"
    }
   ],
   "source": [
    "b = GPUCB(; k=1, actiondistr=GaussianActions(), outs=Set([:plot]))\n",
    "gp_result = POMDPs.solve(b, WideBump())\n",
    "animate(gp_result, \"./gptest.gif\")"
   ]
  },
  {
   "cell_type": "code",
   "execution_count": 34,
   "metadata": {},
   "outputs": [
    {
     "name": "stderr",
     "output_type": "stream",
     "text": [
      "\u001b[1m\u001b[36mINFO: \u001b[39m\u001b[22m\u001b[36mSaved animation to /Users/rlee18/.julia/v0.6/CBandits/notebooks/gptest.gif\n",
      "\u001b[39m"
     ]
    },
    {
     "data": {
      "text/html": [
       "<img src=\"gptest.gif?0.020654282100161625>\" />"
      ],
      "text/plain": [
       "Plots.AnimatedGif(\"/Users/rlee18/.julia/v0.6/CBandits/notebooks/gptest.gif\")"
      ]
     },
     "execution_count": 34,
     "metadata": {},
     "output_type": "execute_result"
    }
   ],
   "source": [
    "b = GPUCB(; k=1, actiondistr=GaussianActions(), outs=Set([:plot]))\n",
    "gp_result = POMDPs.solve(b, NarrowBump())\n",
    "animate(gp_result, \"./gptest.gif\")"
   ]
  },
  {
   "cell_type": "code",
   "execution_count": 35,
   "metadata": {},
   "outputs": [
    {
     "name": "stderr",
     "output_type": "stream",
     "text": [
      "\u001b[1m\u001b[36mINFO: \u001b[39m\u001b[22m\u001b[36mSaved animation to /Users/rlee18/.julia/v0.6/CBandits/notebooks/gptest.gif\n",
      "\u001b[39m"
     ]
    },
    {
     "data": {
      "text/html": [
       "<img src=\"gptest.gif?0.9001150726489795>\" />"
      ],
      "text/plain": [
       "Plots.AnimatedGif(\"/Users/rlee18/.julia/v0.6/CBandits/notebooks/gptest.gif\")"
      ]
     },
     "execution_count": 35,
     "metadata": {},
     "output_type": "execute_result"
    }
   ],
   "source": [
    "b = GPUCB(; k=1, actiondistr=GaussianActions(), outs=Set([:plot]))\n",
    "gp_result = POMDPs.solve(b, TwoBumps())\n",
    "animate(gp_result, \"./gptest.gif\")"
   ]
  },
  {
   "cell_type": "code",
   "execution_count": 36,
   "metadata": {},
   "outputs": [
    {
     "name": "stderr",
     "output_type": "stream",
     "text": [
      "\u001b[1m\u001b[36mINFO: \u001b[39m\u001b[22m\u001b[36mSaved animation to /Users/rlee18/.julia/v0.6/CBandits/notebooks/gptest.gif\n",
      "\u001b[39m"
     ]
    },
    {
     "data": {
      "text/html": [
       "<img src=\"gptest.gif?0.039447051947036904>\" />"
      ],
      "text/plain": [
       "Plots.AnimatedGif(\"/Users/rlee18/.julia/v0.6/CBandits/notebooks/gptest.gif\")"
      ]
     },
     "execution_count": 36,
     "metadata": {},
     "output_type": "execute_result"
    }
   ],
   "source": [
    "b = GPUCB(; k=1, actiondistr=GaussianActions(), outs=Set([:plot]))\n",
    "gp_result = POMDPs.solve(b, ThreeBumps())\n",
    "animate(gp_result, \"./gptest.gif\")"
   ]
  },
  {
   "cell_type": "code",
   "execution_count": 37,
   "metadata": {
    "scrolled": true
   },
   "outputs": [
    {
     "name": "stderr",
     "output_type": "stream",
     "text": [
      "\u001b[1m\u001b[36mINFO: \u001b[39m\u001b[22m\u001b[36mSaved animation to /Users/rlee18/.julia/v0.6/CBandits/notebooks/gptest.gif\n",
      "\u001b[39m"
     ]
    },
    {
     "data": {
      "text/html": [
       "<img src=\"gptest.gif?0.8559416452289035>\" />"
      ],
      "text/plain": [
       "Plots.AnimatedGif(\"/Users/rlee18/.julia/v0.6/CBandits/notebooks/gptest.gif\")"
      ]
     },
     "execution_count": 37,
     "metadata": {},
     "output_type": "execute_result"
    }
   ],
   "source": [
    "b = GPUCB(; k=1, actiondistr=GaussianActions(), outs=Set([:plot]))\n",
    "gp_result = POMDPs.solve(b, Sinc())\n",
    "animate(gp_result, \"./gptest.gif\")"
   ]
  },
  {
   "cell_type": "code",
   "execution_count": null,
   "metadata": {},
   "outputs": [],
   "source": []
  }
 ],
 "metadata": {
  "kernelspec": {
   "display_name": "Julia 0.6.2",
   "language": "julia",
   "name": "julia-0.6"
  },
  "language_info": {
   "file_extension": ".jl",
   "mimetype": "application/julia",
   "name": "julia",
   "version": "0.6.2"
  }
 },
 "nbformat": 4,
 "nbformat_minor": 2
}
