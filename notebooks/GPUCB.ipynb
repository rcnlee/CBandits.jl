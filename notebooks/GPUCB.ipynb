{
 "cells": [
  {
   "cell_type": "code",
   "execution_count": 1,
   "metadata": {},
   "outputs": [
    {
     "name": "stderr",
     "output_type": "stream",
     "text": [
      "WARNING: using Plots.PyPlot in module Main conflicts with an existing identifier.\n"
     ]
    },
    {
     "data": {
      "text/plain": [
       "Plots.PyPlotBackend()"
      ]
     },
     "execution_count": 1,
     "metadata": {},
     "output_type": "execute_result"
    }
   ],
   "source": [
    "using CBandits\n",
    "using POMDPs\n",
    "using DataFrames\n",
    "using Plots; pyplot()"
   ]
  },
  {
   "cell_type": "code",
   "execution_count": 2,
   "metadata": {},
   "outputs": [],
   "source": [
    "## Grid\n",
    "### Uniform"
   ]
  },
  {
   "cell_type": "code",
   "execution_count": 3,
   "metadata": {},
   "outputs": [
    {
     "name": "stderr",
     "output_type": "stream",
     "text": [
      "\u001b[1m\u001b[36mINFO: \u001b[39m\u001b[22m\u001b[36mSaved animation to /Users/rlee18/.julia/v0.6/CBandits/notebooks/gptest.gif\n",
      "\u001b[39m"
     ]
    },
    {
     "data": {
      "text/html": [
       "<img src=\"gptest.gif?0.8495007649136292>\" />"
      ],
      "text/plain": [
       "Plots.AnimatedGif(\"/Users/rlee18/.julia/v0.6/CBandits/notebooks/gptest.gif\")"
      ]
     },
     "execution_count": 3,
     "metadata": {},
     "output_type": "execute_result"
    }
   ],
   "source": [
    "b = GPUCBGrid(; actiondistr=UniformActions(), outs=Set([:plot]))\n",
    "gp_result = POMDPs.solve(b, WideBump())\n",
    "animate(gp_result, \"./gptest.gif\")"
   ]
  },
  {
   "cell_type": "code",
   "execution_count": 4,
   "metadata": {},
   "outputs": [
    {
     "name": "stderr",
     "output_type": "stream",
     "text": [
      "\u001b[1m\u001b[36mINFO: \u001b[39m\u001b[22m\u001b[36mSaved animation to /Users/rlee18/.julia/v0.6/CBandits/notebooks/gptest.gif\n",
      "\u001b[39m"
     ]
    },
    {
     "data": {
      "text/html": [
       "<img src=\"gptest.gif?0.11247018527202557>\" />"
      ],
      "text/plain": [
       "Plots.AnimatedGif(\"/Users/rlee18/.julia/v0.6/CBandits/notebooks/gptest.gif\")"
      ]
     },
     "execution_count": 4,
     "metadata": {},
     "output_type": "execute_result"
    }
   ],
   "source": [
    "b = GPUCBGrid(; actiondistr=UniformActions(), outs=Set([:plot]))\n",
    "gp_result = POMDPs.solve(b, NarrowBump())\n",
    "animate(gp_result, \"./gptest.gif\")"
   ]
  },
  {
   "cell_type": "code",
   "execution_count": 5,
   "metadata": {},
   "outputs": [
    {
     "name": "stderr",
     "output_type": "stream",
     "text": [
      "\u001b[1m\u001b[36mINFO: \u001b[39m\u001b[22m\u001b[36mSaved animation to /Users/rlee18/.julia/v0.6/CBandits/notebooks/gptest.gif\n",
      "\u001b[39m"
     ]
    },
    {
     "data": {
      "text/html": [
       "<img src=\"gptest.gif?0.26370109919882045>\" />"
      ],
      "text/plain": [
       "Plots.AnimatedGif(\"/Users/rlee18/.julia/v0.6/CBandits/notebooks/gptest.gif\")"
      ]
     },
     "execution_count": 5,
     "metadata": {},
     "output_type": "execute_result"
    }
   ],
   "source": [
    "b = GPUCBGrid(; actiondistr=UniformActions(), outs=Set([:plot]))\n",
    "gp_result = POMDPs.solve(b, TwoBumps())\n",
    "animate(gp_result, \"./gptest.gif\")"
   ]
  },
  {
   "cell_type": "code",
   "execution_count": 6,
   "metadata": {},
   "outputs": [
    {
     "name": "stderr",
     "output_type": "stream",
     "text": [
      "\u001b[1m\u001b[36mINFO: \u001b[39m\u001b[22m\u001b[36mSaved animation to /Users/rlee18/.julia/v0.6/CBandits/notebooks/gptest.gif\n",
      "\u001b[39m"
     ]
    },
    {
     "data": {
      "text/html": [
       "<img src=\"gptest.gif?0.9623875472762722>\" />"
      ],
      "text/plain": [
       "Plots.AnimatedGif(\"/Users/rlee18/.julia/v0.6/CBandits/notebooks/gptest.gif\")"
      ]
     },
     "execution_count": 6,
     "metadata": {},
     "output_type": "execute_result"
    }
   ],
   "source": [
    "b = GPUCBGrid(; actiondistr=UniformActions(), outs=Set([:plot]))\n",
    "gp_result = POMDPs.solve(b, ThreeBumps())\n",
    "animate(gp_result, \"./gptest.gif\")"
   ]
  },
  {
   "cell_type": "code",
   "execution_count": 7,
   "metadata": {},
   "outputs": [
    {
     "name": "stderr",
     "output_type": "stream",
     "text": [
      "\u001b[1m\u001b[36mINFO: \u001b[39m\u001b[22m\u001b[36mSaved animation to /Users/rlee18/.julia/v0.6/CBandits/notebooks/gptest.gif\n",
      "\u001b[39m"
     ]
    },
    {
     "data": {
      "text/html": [
       "<img src=\"gptest.gif?0.6146980290738695>\" />"
      ],
      "text/plain": [
       "Plots.AnimatedGif(\"/Users/rlee18/.julia/v0.6/CBandits/notebooks/gptest.gif\")"
      ]
     },
     "execution_count": 7,
     "metadata": {},
     "output_type": "execute_result"
    }
   ],
   "source": [
    "b = GPUCBGrid(; actiondistr=UniformActions(), outs=Set([:plot]))\n",
    "gp_result = POMDPs.solve(b, Sinc())\n",
    "animate(gp_result, \"./gptest.gif\")"
   ]
  },
  {
   "cell_type": "code",
   "execution_count": 8,
   "metadata": {},
   "outputs": [],
   "source": [
    "## Grid\n",
    "### Gaussian"
   ]
  },
  {
   "cell_type": "code",
   "execution_count": 9,
   "metadata": {},
   "outputs": [
    {
     "name": "stderr",
     "output_type": "stream",
     "text": [
      "\u001b[1m\u001b[36mINFO: \u001b[39m\u001b[22m\u001b[36mSaved animation to /Users/rlee18/.julia/v0.6/CBandits/notebooks/gptest.gif\n",
      "\u001b[39m"
     ]
    },
    {
     "data": {
      "text/html": [
       "<img src=\"gptest.gif?0.6713656691842462>\" />"
      ],
      "text/plain": [
       "Plots.AnimatedGif(\"/Users/rlee18/.julia/v0.6/CBandits/notebooks/gptest.gif\")"
      ]
     },
     "execution_count": 9,
     "metadata": {},
     "output_type": "execute_result"
    }
   ],
   "source": [
    "b = GPUCBGrid(; actiondistr=GaussianActions(), outs=Set([:plot]))\n",
    "gp_result = POMDPs.solve(b, WideBump())\n",
    "animate(gp_result, \"./gptest.gif\")"
   ]
  },
  {
   "cell_type": "code",
   "execution_count": 10,
   "metadata": {},
   "outputs": [
    {
     "name": "stderr",
     "output_type": "stream",
     "text": [
      "\u001b[1m\u001b[36mINFO: \u001b[39m\u001b[22m\u001b[36mSaved animation to /Users/rlee18/.julia/v0.6/CBandits/notebooks/gptest.gif\n",
      "\u001b[39m"
     ]
    },
    {
     "data": {
      "text/html": [
       "<img src=\"gptest.gif?0.6187236694888993>\" />"
      ],
      "text/plain": [
       "Plots.AnimatedGif(\"/Users/rlee18/.julia/v0.6/CBandits/notebooks/gptest.gif\")"
      ]
     },
     "execution_count": 10,
     "metadata": {},
     "output_type": "execute_result"
    }
   ],
   "source": [
    "b = GPUCBGrid(; actiondistr=GaussianActions(), outs=Set([:plot]))\n",
    "gp_result = POMDPs.solve(b, NarrowBump())\n",
    "animate(gp_result, \"./gptest.gif\")"
   ]
  },
  {
   "cell_type": "code",
   "execution_count": 11,
   "metadata": {},
   "outputs": [
    {
     "name": "stderr",
     "output_type": "stream",
     "text": [
      "\u001b[1m\u001b[36mINFO: \u001b[39m\u001b[22m\u001b[36mSaved animation to /Users/rlee18/.julia/v0.6/CBandits/notebooks/gptest.gif\n",
      "\u001b[39m"
     ]
    },
    {
     "data": {
      "text/html": [
       "<img src=\"gptest.gif?0.3683354596954078>\" />"
      ],
      "text/plain": [
       "Plots.AnimatedGif(\"/Users/rlee18/.julia/v0.6/CBandits/notebooks/gptest.gif\")"
      ]
     },
     "execution_count": 11,
     "metadata": {},
     "output_type": "execute_result"
    }
   ],
   "source": [
    "b = GPUCBGrid(; actiondistr=GaussianActions(), outs=Set([:plot]))\n",
    "gp_result = POMDPs.solve(b, TwoBumps())\n",
    "animate(gp_result, \"./gptest.gif\")"
   ]
  },
  {
   "cell_type": "code",
   "execution_count": 12,
   "metadata": {},
   "outputs": [
    {
     "name": "stderr",
     "output_type": "stream",
     "text": [
      "\u001b[1m\u001b[36mINFO: \u001b[39m\u001b[22m\u001b[36mSaved animation to /Users/rlee18/.julia/v0.6/CBandits/notebooks/gptest.gif\n",
      "\u001b[39m"
     ]
    },
    {
     "data": {
      "text/html": [
       "<img src=\"gptest.gif?0.6517671011030328>\" />"
      ],
      "text/plain": [
       "Plots.AnimatedGif(\"/Users/rlee18/.julia/v0.6/CBandits/notebooks/gptest.gif\")"
      ]
     },
     "execution_count": 12,
     "metadata": {},
     "output_type": "execute_result"
    }
   ],
   "source": [
    "b = GPUCBGrid(; actiondistr=GaussianActions(), outs=Set([:plot]))\n",
    "gp_result = POMDPs.solve(b, ThreeBumps())\n",
    "animate(gp_result, \"./gptest.gif\")"
   ]
  },
  {
   "cell_type": "code",
   "execution_count": 13,
   "metadata": {},
   "outputs": [
    {
     "name": "stderr",
     "output_type": "stream",
     "text": [
      "\u001b[1m\u001b[36mINFO: \u001b[39m\u001b[22m\u001b[36mSaved animation to /Users/rlee18/.julia/v0.6/CBandits/notebooks/gptest.gif\n",
      "\u001b[39m"
     ]
    },
    {
     "data": {
      "text/html": [
       "<img src=\"gptest.gif?0.8520912111498891>\" />"
      ],
      "text/plain": [
       "Plots.AnimatedGif(\"/Users/rlee18/.julia/v0.6/CBandits/notebooks/gptest.gif\")"
      ]
     },
     "execution_count": 13,
     "metadata": {},
     "output_type": "execute_result"
    }
   ],
   "source": [
    "b = GPUCBGrid(; actiondistr=GaussianActions(), outs=Set([:plot]))\n",
    "gp_result = POMDPs.solve(b, Sinc())\n",
    "animate(gp_result, \"./gptest.gif\")"
   ]
  },
  {
   "cell_type": "code",
   "execution_count": 14,
   "metadata": {},
   "outputs": [],
   "source": [
    "## k=100\n",
    "### Uniform"
   ]
  },
  {
   "cell_type": "code",
   "execution_count": 15,
   "metadata": {},
   "outputs": [
    {
     "name": "stderr",
     "output_type": "stream",
     "text": [
      "\u001b[1m\u001b[36mINFO: \u001b[39m\u001b[22m\u001b[36mSaved animation to /Users/rlee18/.julia/v0.6/CBandits/notebooks/gpucb_uniform_widebump.gif\n",
      "\u001b[39m"
     ]
    },
    {
     "data": {
      "text/html": [
       "<img src=\"gpucb_uniform_widebump.gif?0.4243194482792283>\" />"
      ],
      "text/plain": [
       "Plots.AnimatedGif(\"/Users/rlee18/.julia/v0.6/CBandits/notebooks/gpucb_uniform_widebump.gif\")"
      ]
     },
     "execution_count": 15,
     "metadata": {},
     "output_type": "execute_result"
    }
   ],
   "source": [
    "b = GPUCB(; actiondistr=UniformActions(), outs=Set([:plot]))\n",
    "gp_result = POMDPs.solve(b, WideBump())\n",
    "animate(gp_result, \"./gpucb_uniform_widebump.gif\")"
   ]
  },
  {
   "cell_type": "code",
   "execution_count": 16,
   "metadata": {},
   "outputs": [
    {
     "name": "stderr",
     "output_type": "stream",
     "text": [
      "\u001b[1m\u001b[36mINFO: \u001b[39m\u001b[22m\u001b[36mSaved animation to /Users/rlee18/.julia/v0.6/CBandits/notebooks/gpucb_uniform_narrowbump.gif\n",
      "\u001b[39m"
     ]
    },
    {
     "data": {
      "text/html": [
       "<img src=\"gpucb_uniform_narrowbump.gif?0.8683989605870757>\" />"
      ],
      "text/plain": [
       "Plots.AnimatedGif(\"/Users/rlee18/.julia/v0.6/CBandits/notebooks/gpucb_uniform_narrowbump.gif\")"
      ]
     },
     "execution_count": 16,
     "metadata": {},
     "output_type": "execute_result"
    }
   ],
   "source": [
    "b = GPUCB(; actiondistr=UniformActions(), outs=Set([:plot]))\n",
    "gp_result = POMDPs.solve(b, NarrowBump())\n",
    "animate(gp_result, \"./gpucb_uniform_narrowbump.gif\")"
   ]
  },
  {
   "cell_type": "code",
   "execution_count": 17,
   "metadata": {},
   "outputs": [
    {
     "name": "stderr",
     "output_type": "stream",
     "text": [
      "\u001b[1m\u001b[36mINFO: \u001b[39m\u001b[22m\u001b[36mSaved animation to /Users/rlee18/.julia/v0.6/CBandits/notebooks/gpucb_uniform_twobumps.gif\n",
      "\u001b[39m"
     ]
    },
    {
     "data": {
      "text/html": [
       "<img src=\"gpucb_uniform_twobumps.gif?0.6327337785910445>\" />"
      ],
      "text/plain": [
       "Plots.AnimatedGif(\"/Users/rlee18/.julia/v0.6/CBandits/notebooks/gpucb_uniform_twobumps.gif\")"
      ]
     },
     "execution_count": 17,
     "metadata": {},
     "output_type": "execute_result"
    }
   ],
   "source": [
    "b = GPUCB(; actiondistr=UniformActions(), outs=Set([:plot]))\n",
    "gp_result = POMDPs.solve(b, TwoBumps())\n",
    "animate(gp_result, \"./gpucb_uniform_twobumps.gif\")"
   ]
  },
  {
   "cell_type": "code",
   "execution_count": 18,
   "metadata": {},
   "outputs": [
    {
     "name": "stderr",
     "output_type": "stream",
     "text": [
      "\u001b[1m\u001b[36mINFO: \u001b[39m\u001b[22m\u001b[36mSaved animation to /Users/rlee18/.julia/v0.6/CBandits/notebooks/gpucb_uniform_threebumps.gif\n",
      "\u001b[39m"
     ]
    },
    {
     "data": {
      "text/html": [
       "<img src=\"gpucb_uniform_threebumps.gif?0.9637557862306245>\" />"
      ],
      "text/plain": [
       "Plots.AnimatedGif(\"/Users/rlee18/.julia/v0.6/CBandits/notebooks/gpucb_uniform_threebumps.gif\")"
      ]
     },
     "execution_count": 18,
     "metadata": {},
     "output_type": "execute_result"
    }
   ],
   "source": [
    "b = GPUCB(; actiondistr=UniformActions(), outs=Set([:plot]))\n",
    "gp_result = POMDPs.solve(b, ThreeBumps())\n",
    "animate(gp_result, \"./gpucb_uniform_threebumps.gif\")"
   ]
  },
  {
   "cell_type": "code",
   "execution_count": 19,
   "metadata": {},
   "outputs": [
    {
     "name": "stderr",
     "output_type": "stream",
     "text": [
      "\u001b[1m\u001b[36mINFO: \u001b[39m\u001b[22m\u001b[36mSaved animation to /Users/rlee18/.julia/v0.6/CBandits/notebooks/gpucb_uniform_sinc.gif\n",
      "\u001b[39m"
     ]
    },
    {
     "data": {
      "text/html": [
       "<img src=\"gpucb_uniform_sinc.gif?0.6218440171453221>\" />"
      ],
      "text/plain": [
       "Plots.AnimatedGif(\"/Users/rlee18/.julia/v0.6/CBandits/notebooks/gpucb_uniform_sinc.gif\")"
      ]
     },
     "execution_count": 19,
     "metadata": {},
     "output_type": "execute_result"
    }
   ],
   "source": [
    "b = GPUCB(; actiondistr=UniformActions(), outs=Set([:plot]))\n",
    "gp_result = POMDPs.solve(b, Sinc())\n",
    "animate(gp_result, \"./gpucb_uniform_sinc.gif\")"
   ]
  },
  {
   "cell_type": "code",
   "execution_count": null,
   "metadata": {},
   "outputs": [],
   "source": []
  },
  {
   "cell_type": "code",
   "execution_count": 20,
   "metadata": {},
   "outputs": [],
   "source": [
    "## k=100\n",
    "### Gaussian"
   ]
  },
  {
   "cell_type": "code",
   "execution_count": 21,
   "metadata": {},
   "outputs": [
    {
     "name": "stderr",
     "output_type": "stream",
     "text": [
      "\u001b[1m\u001b[36mINFO: \u001b[39m\u001b[22m\u001b[36mSaved animation to /Users/rlee18/.julia/v0.6/CBandits/notebooks/gptest.gif\n",
      "\u001b[39m"
     ]
    },
    {
     "data": {
      "text/html": [
       "<img src=\"gptest.gif?0.3026430483300555>\" />"
      ],
      "text/plain": [
       "Plots.AnimatedGif(\"/Users/rlee18/.julia/v0.6/CBandits/notebooks/gptest.gif\")"
      ]
     },
     "execution_count": 21,
     "metadata": {},
     "output_type": "execute_result"
    }
   ],
   "source": [
    "b = GPUCB(; actiondistr=GaussianActions(), outs=Set([:plot]))\n",
    "gp_result = POMDPs.solve(b, WideBump())\n",
    "animate(gp_result, \"./gptest.gif\")"
   ]
  },
  {
   "cell_type": "code",
   "execution_count": 22,
   "metadata": {},
   "outputs": [
    {
     "name": "stderr",
     "output_type": "stream",
     "text": [
      "\u001b[1m\u001b[36mINFO: \u001b[39m\u001b[22m\u001b[36mSaved animation to /Users/rlee18/.julia/v0.6/CBandits/notebooks/gptest.gif\n",
      "\u001b[39m"
     ]
    },
    {
     "data": {
      "text/html": [
       "<img src=\"gptest.gif?0.715746841728234>\" />"
      ],
      "text/plain": [
       "Plots.AnimatedGif(\"/Users/rlee18/.julia/v0.6/CBandits/notebooks/gptest.gif\")"
      ]
     },
     "execution_count": 22,
     "metadata": {},
     "output_type": "execute_result"
    }
   ],
   "source": [
    "b = GPUCB(; actiondistr=GaussianActions(), outs=Set([:plot]))\n",
    "gp_result = POMDPs.solve(b, NarrowBump())\n",
    "animate(gp_result, \"./gptest.gif\")"
   ]
  },
  {
   "cell_type": "code",
   "execution_count": 23,
   "metadata": {},
   "outputs": [
    {
     "name": "stderr",
     "output_type": "stream",
     "text": [
      "\u001b[1m\u001b[36mINFO: \u001b[39m\u001b[22m\u001b[36mSaved animation to /Users/rlee18/.julia/v0.6/CBandits/notebooks/gptest.gif\n",
      "\u001b[39m"
     ]
    },
    {
     "data": {
      "text/html": [
       "<img src=\"gptest.gif?0.5871178939794952>\" />"
      ],
      "text/plain": [
       "Plots.AnimatedGif(\"/Users/rlee18/.julia/v0.6/CBandits/notebooks/gptest.gif\")"
      ]
     },
     "execution_count": 23,
     "metadata": {},
     "output_type": "execute_result"
    }
   ],
   "source": [
    "b = GPUCB(; actiondistr=GaussianActions(), outs=Set([:plot]))\n",
    "gp_result = POMDPs.solve(b, TwoBumps())\n",
    "animate(gp_result, \"./gptest.gif\")"
   ]
  },
  {
   "cell_type": "code",
   "execution_count": 24,
   "metadata": {},
   "outputs": [
    {
     "name": "stderr",
     "output_type": "stream",
     "text": [
      "\u001b[1m\u001b[36mINFO: \u001b[39m\u001b[22m\u001b[36mSaved animation to /Users/rlee18/.julia/v0.6/CBandits/notebooks/gptest.gif\n",
      "\u001b[39m"
     ]
    },
    {
     "data": {
      "text/html": [
       "<img src=\"gptest.gif?0.6956212488475735>\" />"
      ],
      "text/plain": [
       "Plots.AnimatedGif(\"/Users/rlee18/.julia/v0.6/CBandits/notebooks/gptest.gif\")"
      ]
     },
     "execution_count": 24,
     "metadata": {},
     "output_type": "execute_result"
    }
   ],
   "source": [
    "b = GPUCB(; actiondistr=GaussianActions(), outs=Set([:plot]))\n",
    "gp_result = POMDPs.solve(b, ThreeBumps())\n",
    "animate(gp_result, \"./gptest.gif\")"
   ]
  },
  {
   "cell_type": "code",
   "execution_count": 25,
   "metadata": {
    "scrolled": true
   },
   "outputs": [
    {
     "name": "stderr",
     "output_type": "stream",
     "text": [
      "\u001b[1m\u001b[36mINFO: \u001b[39m\u001b[22m\u001b[36mSaved animation to /Users/rlee18/.julia/v0.6/CBandits/notebooks/gptest.gif\n",
      "\u001b[39m"
     ]
    },
    {
     "data": {
      "text/html": [
       "<img src=\"gptest.gif?0.5621289962803457>\" />"
      ],
      "text/plain": [
       "Plots.AnimatedGif(\"/Users/rlee18/.julia/v0.6/CBandits/notebooks/gptest.gif\")"
      ]
     },
     "execution_count": 25,
     "metadata": {},
     "output_type": "execute_result"
    }
   ],
   "source": [
    "b = GPUCB(; actiondistr=GaussianActions(), outs=Set([:plot]))\n",
    "gp_result = POMDPs.solve(b, Sinc())\n",
    "animate(gp_result, \"./gptest.gif\")"
   ]
  },
  {
   "cell_type": "code",
   "execution_count": 26,
   "metadata": {},
   "outputs": [],
   "source": [
    "## k=1\n",
    "### Uniform"
   ]
  },
  {
   "cell_type": "code",
   "execution_count": 27,
   "metadata": {},
   "outputs": [
    {
     "name": "stderr",
     "output_type": "stream",
     "text": [
      "\u001b[1m\u001b[36mINFO: \u001b[39m\u001b[22m\u001b[36mSaved animation to /Users/rlee18/.julia/v0.6/CBandits/notebooks/gptest.gif\n",
      "\u001b[39m"
     ]
    },
    {
     "data": {
      "text/html": [
       "<img src=\"gptest.gif?0.8533809423418355>\" />"
      ],
      "text/plain": [
       "Plots.AnimatedGif(\"/Users/rlee18/.julia/v0.6/CBandits/notebooks/gptest.gif\")"
      ]
     },
     "execution_count": 27,
     "metadata": {},
     "output_type": "execute_result"
    }
   ],
   "source": [
    "b = GPUCB(; k=1, actiondistr=UniformActions(), outs=Set([:plot]))\n",
    "gp_result = POMDPs.solve(b, WideBump())\n",
    "animate(gp_result, \"./gptest.gif\")"
   ]
  },
  {
   "cell_type": "code",
   "execution_count": 28,
   "metadata": {},
   "outputs": [
    {
     "name": "stderr",
     "output_type": "stream",
     "text": [
      "\u001b[1m\u001b[36mINFO: \u001b[39m\u001b[22m\u001b[36mSaved animation to /Users/rlee18/.julia/v0.6/CBandits/notebooks/gptest.gif\n",
      "\u001b[39m"
     ]
    },
    {
     "data": {
      "text/html": [
       "<img src=\"gptest.gif?0.6989941521082959>\" />"
      ],
      "text/plain": [
       "Plots.AnimatedGif(\"/Users/rlee18/.julia/v0.6/CBandits/notebooks/gptest.gif\")"
      ]
     },
     "execution_count": 28,
     "metadata": {},
     "output_type": "execute_result"
    }
   ],
   "source": [
    "b = GPUCB(; k=1, actiondistr=UniformActions(), outs=Set([:plot]))\n",
    "gp_result = POMDPs.solve(b, NarrowBump())\n",
    "animate(gp_result, \"./gptest.gif\")"
   ]
  },
  {
   "cell_type": "code",
   "execution_count": 29,
   "metadata": {},
   "outputs": [
    {
     "name": "stderr",
     "output_type": "stream",
     "text": [
      "\u001b[1m\u001b[36mINFO: \u001b[39m\u001b[22m\u001b[36mSaved animation to /Users/rlee18/.julia/v0.6/CBandits/notebooks/gptest.gif\n",
      "\u001b[39m"
     ]
    },
    {
     "data": {
      "text/html": [
       "<img src=\"gptest.gif?0.8342634664606312>\" />"
      ],
      "text/plain": [
       "Plots.AnimatedGif(\"/Users/rlee18/.julia/v0.6/CBandits/notebooks/gptest.gif\")"
      ]
     },
     "execution_count": 29,
     "metadata": {},
     "output_type": "execute_result"
    }
   ],
   "source": [
    "b = GPUCB(; k=1, actiondistr=UniformActions(), outs=Set([:plot]))\n",
    "gp_result = POMDPs.solve(b, TwoBumps())\n",
    "animate(gp_result, \"./gptest.gif\")"
   ]
  },
  {
   "cell_type": "code",
   "execution_count": 30,
   "metadata": {},
   "outputs": [
    {
     "name": "stderr",
     "output_type": "stream",
     "text": [
      "\u001b[1m\u001b[36mINFO: \u001b[39m\u001b[22m\u001b[36mSaved animation to /Users/rlee18/.julia/v0.6/CBandits/notebooks/gptest.gif\n",
      "\u001b[39m"
     ]
    },
    {
     "data": {
      "text/html": [
       "<img src=\"gptest.gif?0.7637378227626097>\" />"
      ],
      "text/plain": [
       "Plots.AnimatedGif(\"/Users/rlee18/.julia/v0.6/CBandits/notebooks/gptest.gif\")"
      ]
     },
     "execution_count": 30,
     "metadata": {},
     "output_type": "execute_result"
    }
   ],
   "source": [
    "b = GPUCB(; k=1, actiondistr=UniformActions(), outs=Set([:plot]))\n",
    "gp_result = POMDPs.solve(b, ThreeBumps())\n",
    "animate(gp_result, \"./gptest.gif\")"
   ]
  },
  {
   "cell_type": "code",
   "execution_count": 31,
   "metadata": {},
   "outputs": [
    {
     "name": "stderr",
     "output_type": "stream",
     "text": [
      "\u001b[1m\u001b[36mINFO: \u001b[39m\u001b[22m\u001b[36mSaved animation to /Users/rlee18/.julia/v0.6/CBandits/notebooks/gptest.gif\n",
      "\u001b[39m"
     ]
    },
    {
     "data": {
      "text/html": [
       "<img src=\"gptest.gif?0.4428679131273332>\" />"
      ],
      "text/plain": [
       "Plots.AnimatedGif(\"/Users/rlee18/.julia/v0.6/CBandits/notebooks/gptest.gif\")"
      ]
     },
     "execution_count": 31,
     "metadata": {},
     "output_type": "execute_result"
    }
   ],
   "source": [
    "b = GPUCB(; k=1, actiondistr=UniformActions(), outs=Set([:plot]))\n",
    "gp_result = POMDPs.solve(b, Sinc())\n",
    "animate(gp_result, \"./gptest.gif\")"
   ]
  },
  {
   "cell_type": "code",
   "execution_count": null,
   "metadata": {},
   "outputs": [],
   "source": []
  },
  {
   "cell_type": "code",
   "execution_count": 32,
   "metadata": {},
   "outputs": [],
   "source": [
    "## k=1\n",
    "### Gaussian"
   ]
  },
  {
   "cell_type": "code",
   "execution_count": 33,
   "metadata": {},
   "outputs": [
    {
     "name": "stderr",
     "output_type": "stream",
     "text": [
      "\u001b[1m\u001b[36mINFO: \u001b[39m\u001b[22m\u001b[36mSaved animation to /Users/rlee18/.julia/v0.6/CBandits/notebooks/gptest.gif\n",
      "\u001b[39m"
     ]
    },
    {
     "data": {
      "text/html": [
       "<img src=\"gptest.gif?0.06865893772543075>\" />"
      ],
      "text/plain": [
       "Plots.AnimatedGif(\"/Users/rlee18/.julia/v0.6/CBandits/notebooks/gptest.gif\")"
      ]
     },
     "execution_count": 33,
     "metadata": {},
     "output_type": "execute_result"
    }
   ],
   "source": [
    "b = GPUCB(; k=1, actiondistr=GaussianActions(), outs=Set([:plot]))\n",
    "gp_result = POMDPs.solve(b, WideBump())\n",
    "animate(gp_result, \"./gptest.gif\")"
   ]
  },
  {
   "cell_type": "code",
   "execution_count": 34,
   "metadata": {},
   "outputs": [
    {
     "name": "stderr",
     "output_type": "stream",
     "text": [
      "\u001b[1m\u001b[36mINFO: \u001b[39m\u001b[22m\u001b[36mSaved animation to /Users/rlee18/.julia/v0.6/CBandits/notebooks/gptest.gif\n",
      "\u001b[39m"
     ]
    },
    {
     "data": {
      "text/html": [
       "<img src=\"gptest.gif?0.9778496918166415>\" />"
      ],
      "text/plain": [
       "Plots.AnimatedGif(\"/Users/rlee18/.julia/v0.6/CBandits/notebooks/gptest.gif\")"
      ]
     },
     "execution_count": 34,
     "metadata": {},
     "output_type": "execute_result"
    }
   ],
   "source": [
    "b = GPUCB(; k=1, actiondistr=GaussianActions(), outs=Set([:plot]))\n",
    "gp_result = POMDPs.solve(b, NarrowBump())\n",
    "animate(gp_result, \"./gptest.gif\")"
   ]
  },
  {
   "cell_type": "code",
   "execution_count": 35,
   "metadata": {},
   "outputs": [
    {
     "name": "stderr",
     "output_type": "stream",
     "text": [
      "\u001b[1m\u001b[36mINFO: \u001b[39m\u001b[22m\u001b[36mSaved animation to /Users/rlee18/.julia/v0.6/CBandits/notebooks/gptest.gif\n",
      "\u001b[39m"
     ]
    },
    {
     "data": {
      "text/html": [
       "<img src=\"gptest.gif?0.09199050030829325>\" />"
      ],
      "text/plain": [
       "Plots.AnimatedGif(\"/Users/rlee18/.julia/v0.6/CBandits/notebooks/gptest.gif\")"
      ]
     },
     "execution_count": 35,
     "metadata": {},
     "output_type": "execute_result"
    }
   ],
   "source": [
    "b = GPUCB(; k=1, actiondistr=GaussianActions(), outs=Set([:plot]))\n",
    "gp_result = POMDPs.solve(b, TwoBumps())\n",
    "animate(gp_result, \"./gptest.gif\")"
   ]
  },
  {
   "cell_type": "code",
   "execution_count": 36,
   "metadata": {},
   "outputs": [
    {
     "name": "stderr",
     "output_type": "stream",
     "text": [
      "\u001b[1m\u001b[36mINFO: \u001b[39m\u001b[22m\u001b[36mSaved animation to /Users/rlee18/.julia/v0.6/CBandits/notebooks/gptest.gif\n",
      "\u001b[39m"
     ]
    },
    {
     "data": {
      "text/html": [
       "<img src=\"gptest.gif?0.36169729134874506>\" />"
      ],
      "text/plain": [
       "Plots.AnimatedGif(\"/Users/rlee18/.julia/v0.6/CBandits/notebooks/gptest.gif\")"
      ]
     },
     "execution_count": 36,
     "metadata": {},
     "output_type": "execute_result"
    }
   ],
   "source": [
    "b = GPUCB(; k=1, actiondistr=GaussianActions(), outs=Set([:plot]))\n",
    "gp_result = POMDPs.solve(b, ThreeBumps())\n",
    "animate(gp_result, \"./gptest.gif\")"
   ]
  },
  {
   "cell_type": "code",
   "execution_count": 37,
   "metadata": {
    "scrolled": true
   },
   "outputs": [
    {
     "name": "stderr",
     "output_type": "stream",
     "text": [
      "\u001b[1m\u001b[36mINFO: \u001b[39m\u001b[22m\u001b[36mSaved animation to /Users/rlee18/.julia/v0.6/CBandits/notebooks/gptest.gif\n",
      "\u001b[39m"
     ]
    },
    {
     "data": {
      "text/html": [
       "<img src=\"gptest.gif?0.7181324839901344>\" />"
      ],
      "text/plain": [
       "Plots.AnimatedGif(\"/Users/rlee18/.julia/v0.6/CBandits/notebooks/gptest.gif\")"
      ]
     },
     "execution_count": 37,
     "metadata": {},
     "output_type": "execute_result"
    }
   ],
   "source": [
    "b = GPUCB(; k=1, actiondistr=GaussianActions(), outs=Set([:plot]))\n",
    "gp_result = POMDPs.solve(b, Sinc())\n",
    "animate(gp_result, \"./gptest.gif\")"
   ]
  },
  {
   "cell_type": "code",
   "execution_count": null,
   "metadata": {},
   "outputs": [],
   "source": []
  }
 ],
 "metadata": {
  "kernelspec": {
   "display_name": "Julia 0.6.2",
   "language": "julia",
   "name": "julia-0.6"
  },
  "language_info": {
   "file_extension": ".jl",
   "mimetype": "application/julia",
   "name": "julia",
   "version": "0.6.2"
  }
 },
 "nbformat": 4,
 "nbformat_minor": 2
}
