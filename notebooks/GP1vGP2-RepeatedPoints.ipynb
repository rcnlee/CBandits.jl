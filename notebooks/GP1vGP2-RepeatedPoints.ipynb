{
 "cells": [
  {
   "cell_type": "markdown",
   "metadata": {},
   "source": [
    "# A Comparison of GaussianProcesses vs. GaussianProcesses2"
   ]
  },
  {
   "cell_type": "code",
   "execution_count": 1,
   "metadata": {},
   "outputs": [
    {
     "data": {
      "text/plain": [
       "Plots.PyPlotBackend()"
      ]
     },
     "execution_count": 1,
     "metadata": {},
     "output_type": "execute_result"
    }
   ],
   "source": [
    "using GaussianProcesses, GaussianProcesses2\n",
    "using BenchmarkTools\n",
    "using Plots; pyplot()"
   ]
  },
  {
   "cell_type": "markdown",
   "metadata": {},
   "source": [
    "## GaussianProcesses"
   ]
  },
  {
   "cell_type": "code",
   "execution_count": 101,
   "metadata": {},
   "outputs": [
    {
     "name": "stderr",
     "output_type": "stream",
     "text": [
      "\u001b[1m\u001b[36mINFO: \u001b[39m\u001b[22m\u001b[36mSaved animation to /Users/rlee18/.julia/v0.6/CBandits/notebooks/gp1_repeated.gif\n",
      "\u001b[39m"
     ]
    },
    {
     "data": {
      "text/html": [
       "<img src=\"gp1_repeated.gif?0.10633287768680266>\" />"
      ],
      "text/plain": [
       "Plots.AnimatedGif(\"/Users/rlee18/.julia/v0.6/CBandits/notebooks/gp1_repeated.gif\")"
      ]
     },
     "execution_count": 101,
     "metadata": {},
     "output_type": "execute_result"
    }
   ],
   "source": [
    "# Training data\n",
    "srand(1989874)\n",
    "ps1 = []\n",
    "sigs1 = []\n",
    "l = 2.0;                            # length scale\n",
    "ν = 0.05                            # noise variance\n",
    "m1 = MeanZero()                         #Zero mean function\n",
    "k1 = SE(log(l),log(1.0))                #Squared exponential kernel (note that hyperparameters are on the log scale)\n",
    "for n in [1,2,3,4,5,10,15,20,30,50,100,200]\n",
    "    X = 2.5 * ones(n);                   # design points\n",
    "    y = sin.(X) + sqrt(ν)*randn(n);     # observed objective values\n",
    "    X_pred = collect(linspace(0.0,2π,20));\n",
    "    gp1 = GP(X,y,m1,k1,log(sqrt(ν)))\n",
    "    μ1, S = predict_f(gp1, X_pred)\n",
    "    sig1 = sqrt.(S)\n",
    "    push!(sigs1, sig1[1])\n",
    "    p = plot(X_pred, μ1, ribbon=sig1, ylim=(0.0,1.2))\n",
    "    plot!(p, X, y, seriestype=:scatter, ylim=(0.0,1.2))\n",
    "    push!(ps1, p)\n",
    "end\n",
    "animate(ps1, \"./gp1_repeated.gif\"; fps=1)"
   ]
  },
  {
   "cell_type": "code",
   "execution_count": 102,
   "metadata": {},
   "outputs": [
    {
     "data": {
      "text/plain": [
       "12-element Array{Any,1}:\n",
       " 0.894634\n",
       " 0.891909\n",
       " 0.890968\n",
       " 0.890492\n",
       " 0.890204\n",
       " 0.889624\n",
       " 0.88943 \n",
       " 0.889332\n",
       " 0.889234\n",
       " 0.889156\n",
       " 0.889097\n",
       " 0.889067"
      ]
     },
     "execution_count": 102,
     "metadata": {},
     "output_type": "execute_result"
    }
   ],
   "source": [
    "sigs1"
   ]
  },
  {
   "cell_type": "code",
   "execution_count": null,
   "metadata": {
    "scrolled": true
   },
   "outputs": [],
   "source": [
    "\n",
    "\n"
   ]
  },
  {
   "cell_type": "markdown",
   "metadata": {},
   "source": [
    "## GaussianProcesses2"
   ]
  },
  {
   "cell_type": "code",
   "execution_count": 103,
   "metadata": {},
   "outputs": [
    {
     "name": "stderr",
     "output_type": "stream",
     "text": [
      "\u001b[1m\u001b[36mINFO: \u001b[39m\u001b[22m\u001b[36mSaved animation to /Users/rlee18/.julia/v0.6/CBandits/notebooks/gp2_repeated.gif\n",
      "\u001b[39m"
     ]
    },
    {
     "data": {
      "text/html": [
       "<img src=\"gp2_repeated.gif?0.10633287768680266>\" />"
      ],
      "text/plain": [
       "Plots.AnimatedGif(\"/Users/rlee18/.julia/v0.6/CBandits/notebooks/gp2_repeated.gif\")"
      ]
     },
     "execution_count": 103,
     "metadata": {},
     "output_type": "execute_result"
    }
   ],
   "source": [
    "srand(1989874)\n",
    "ps2 = []\n",
    "sigs2 = []\n",
    "l = 2.0;                            # length scale\n",
    "ν = 0.05                            # noise variance\n",
    "m2 = ZeroMean()  # constant zero mean function\n",
    "k2 = SquaredExponential(l);  # squared exponential kernel\n",
    "for n in [1,2,3,4,5,10,15,20,30,50,100,200]\n",
    "    X = 2.5 * ones(n);                   # design points\n",
    "    y = sin.(X) + sqrt(ν)*randn(n);     # observed objective values\n",
    "    X_pred = collect(linspace(0.0,2π,20));\n",
    "    gp2 = GaussianProcess(m2,k2,X,y,ν)\n",
    "    μ2, v2 = GaussianProcesses2.predict(gp2, X_pred)\n",
    "    sig2 = sqrt.(v2)\n",
    "    push!(sigs2, sig2[1])\n",
    "    p = plot(X_pred, μ2, ribbon=sig2)\n",
    "    plot!(p, X, y, seriestype=:scatter)\n",
    "    push!(ps2, p)\n",
    "end\n",
    "animate(ps2, \"./gp2_repeated.gif\"; fps=1)"
   ]
  },
  {
   "cell_type": "code",
   "execution_count": 104,
   "metadata": {},
   "outputs": [
    {
     "data": {
      "text/plain": [
       "12-element Array{Any,1}:\n",
       " 0.894634\n",
       " 0.891909\n",
       " 0.890968\n",
       " 0.890492\n",
       " 0.890204\n",
       " 0.889624\n",
       " 0.88943 \n",
       " 0.889332\n",
       " 0.889234\n",
       " 0.889156\n",
       " 0.889097\n",
       " 0.889067"
      ]
     },
     "execution_count": 104,
     "metadata": {},
     "output_type": "execute_result"
    }
   ],
   "source": [
    "sigs2"
   ]
  },
  {
   "cell_type": "markdown",
   "metadata": {},
   "source": [
    "### Manual testing"
   ]
  },
  {
   "cell_type": "code",
   "execution_count": 105,
   "metadata": {},
   "outputs": [
    {
     "data": {
      "text/plain": [
       "GaussianProcesses2.GaussianProcess(GaussianProcesses2.ConstMean(0.0), GaussianProcesses2.SquaredExponential(4.0), [2.5, 2.5, 2.5], [0.927593, 0.43596, 0.455532], 0.05)"
      ]
     },
     "execution_count": 105,
     "metadata": {},
     "output_type": "execute_result"
    }
   ],
   "source": [
    "n = 3\n",
    "X = 2.5 * ones(n);                   # design points\n",
    "y = sin.(X) + sqrt(ν)*randn(n);     # observed objective values\n",
    "X_pred = [2.5]\n",
    "gp2 = GaussianProcess(m2,k2,X,y,ν)"
   ]
  },
  {
   "cell_type": "code",
   "execution_count": 106,
   "metadata": {},
   "outputs": [
    {
     "data": {
      "text/plain": [
       "1×3 Array{Float64,2}:\n",
       " 0.327869  0.327869  0.327869"
      ]
     },
     "execution_count": 106,
     "metadata": {},
     "output_type": "execute_result"
    }
   ],
   "source": [
    "using GaussianProcesses2: μ, K\n",
    "m, k, ν = gp2.m, gp2.k, gp2.ν\n",
    "tmp = K(X_pred, gp2.X, k) / (K(gp2.X, gp2.X, k) + ν*I)"
   ]
  },
  {
   "cell_type": "code",
   "execution_count": 107,
   "metadata": {},
   "outputs": [
    {
     "data": {
      "text/plain": [
       "1×1 Array{Float64,2}:\n",
       " 0.0163934"
      ]
     },
     "execution_count": 107,
     "metadata": {},
     "output_type": "execute_result"
    }
   ],
   "source": [
    "S = K(X_pred, X_pred, k) - tmp*K(gp2.X, X_pred, k)"
   ]
  },
  {
   "cell_type": "code",
   "execution_count": 108,
   "metadata": {},
   "outputs": [
    {
     "data": {
      "text/plain": [
       "3×1 Array{Float64,2}:\n",
       " 1.0\n",
       " 1.0\n",
       " 1.0"
      ]
     },
     "execution_count": 108,
     "metadata": {},
     "output_type": "execute_result"
    }
   ],
   "source": [
    "K(gp2.X, X_pred, k)"
   ]
  },
  {
   "cell_type": "code",
   "execution_count": 109,
   "metadata": {},
   "outputs": [
    {
     "data": {
      "text/plain": [
       "3×3 Array{Float64,2}:\n",
       " 1.0  1.0  1.0\n",
       " 1.0  1.0  1.0\n",
       " 1.0  1.0  1.0"
      ]
     },
     "execution_count": 109,
     "metadata": {},
     "output_type": "execute_result"
    }
   ],
   "source": [
    "K(gp2.X, gp2.X, k)"
   ]
  },
  {
   "cell_type": "code",
   "execution_count": 110,
   "metadata": {},
   "outputs": [
    {
     "data": {
      "text/plain": [
       "3×3 Array{Float64,2}:\n",
       " 1.05  1.0   1.0 \n",
       " 1.0   1.05  1.0 \n",
       " 1.0   1.0   1.05"
      ]
     },
     "execution_count": 110,
     "metadata": {},
     "output_type": "execute_result"
    }
   ],
   "source": [
    "A = (K(gp2.X, gp2.X, k) + ν*I)"
   ]
  },
  {
   "cell_type": "code",
   "execution_count": 111,
   "metadata": {},
   "outputs": [
    {
     "data": {
      "text/plain": [
       "3"
      ]
     },
     "execution_count": 111,
     "metadata": {},
     "output_type": "execute_result"
    }
   ],
   "source": [
    "rank(A)"
   ]
  },
  {
   "cell_type": "code",
   "execution_count": null,
   "metadata": {},
   "outputs": [],
   "source": []
  },
  {
   "cell_type": "code",
   "execution_count": null,
   "metadata": {},
   "outputs": [],
   "source": []
  }
 ],
 "metadata": {
  "kernelspec": {
   "display_name": "Julia 0.6.2",
   "language": "julia",
   "name": "julia-0.6"
  },
  "language_info": {
   "file_extension": ".jl",
   "mimetype": "application/julia",
   "name": "julia",
   "version": "0.6.2"
  }
 },
 "nbformat": 4,
 "nbformat_minor": 2
}
